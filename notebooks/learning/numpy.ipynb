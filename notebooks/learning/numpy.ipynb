{
 "cells": [
  {
   "cell_type": "code",
   "execution_count": 1,
   "metadata": {
    "collapsed": true
   },
   "outputs": [],
   "source": [
    "import numpy as np\n",
    "from IPython.display import display as d"
   ]
  },
  {
   "cell_type": "markdown",
   "metadata": {},
   "source": [
    "## Array Creation"
   ]
  },
  {
   "cell_type": "code",
   "execution_count": 61,
   "metadata": {},
   "outputs": [
    {
     "name": "stdout",
     "output_type": "stream",
     "text": [
      "From a list or tuple: \n"
     ]
    },
    {
     "data": {
      "text/plain": [
       "array([1, 2, 3, 4, 5])"
      ]
     },
     "metadata": {},
     "output_type": "display_data"
    },
    {
     "name": "stdout",
     "output_type": "stream",
     "text": [
      "1D array with zeros:\n"
     ]
    },
    {
     "data": {
      "text/plain": [
       "array([ 0.,  0.,  0.,  0.,  0.,  0.,  0.,  0.,  0.,  0.])"
      ]
     },
     "metadata": {},
     "output_type": "display_data"
    },
    {
     "name": "stdout",
     "output_type": "stream",
     "text": [
      "1D array with ones:\n"
     ]
    },
    {
     "data": {
      "text/plain": [
       "array([ 1.,  1.,  1.,  1.,  1.,  1.,  1.,  1.,  1.,  1.])"
      ]
     },
     "metadata": {},
     "output_type": "display_data"
    },
    {
     "name": "stdout",
     "output_type": "stream",
     "text": [
      "2D array with ones on diagonal only:\n"
     ]
    },
    {
     "data": {
      "text/plain": [
       "array([[ 1.,  0.],\n",
       "       [ 0.,  1.]])"
      ]
     },
     "metadata": {},
     "output_type": "display_data"
    },
    {
     "name": "stdout",
     "output_type": "stream",
     "text": [
      "2D array with zeros integers:\n"
     ]
    },
    {
     "data": {
      "text/plain": [
       "array([[0, 0, 0, 0],\n",
       "       [0, 0, 0, 0],\n",
       "       [0, 0, 0, 0]])"
      ]
     },
     "metadata": {},
     "output_type": "display_data"
    },
    {
     "name": "stdout",
     "output_type": "stream",
     "text": [
      "1D array with a sequence:\n"
     ]
    },
    {
     "data": {
      "text/plain": [
       "array([1, 3, 5, 7, 9])"
      ]
     },
     "metadata": {},
     "output_type": "display_data"
    },
    {
     "name": "stdout",
     "output_type": "stream",
     "text": [
      "1D array with evenly spaced sequence:\n"
     ]
    },
    {
     "data": {
      "text/plain": [
       "array([  1.        ,   1.47368421,   1.94736842,   2.42105263,\n",
       "         2.89473684,   3.36842105,   3.84210526,   4.31578947,\n",
       "         4.78947368,   5.26315789,   5.73684211,   6.21052632,\n",
       "         6.68421053,   7.15789474,   7.63157895,   8.10526316,\n",
       "         8.57894737,   9.05263158,   9.52631579,  10.        ])"
      ]
     },
     "metadata": {},
     "output_type": "display_data"
    },
    {
     "name": "stdout",
     "output_type": "stream",
     "text": [
      "1D array load from txt (csv format):\n"
     ]
    },
    {
     "data": {
      "text/plain": [
       "array([[ 1.,  2.,  3.,  5.],\n",
       "       [ 6.,  7.,  8.,  9.]])"
      ]
     },
     "metadata": {},
     "output_type": "display_data"
    },
    {
     "name": "stdout",
     "output_type": "stream",
     "text": [
      "1D array full of initial value:\n",
      "1D array with random values:\n"
     ]
    },
    {
     "data": {
      "text/plain": [
       "array([ 0.96695877,  0.15467208,  0.95458212,  0.94260584,  0.91551467,\n",
       "        0.68404743,  0.62934841,  0.35413669,  0.74316535,  0.59110848])"
      ]
     },
     "execution_count": 61,
     "metadata": {},
     "output_type": "execute_result"
    }
   ],
   "source": [
    "print('From a list or tuple: ')\n",
    "d(np.array([1,2,3,4,5]))\n",
    "print('1D array with zeros:')\n",
    "d(np.zeros(10))\n",
    "print('1D array with ones:')\n",
    "d(np.ones(10))\n",
    "print('2D array with ones on diagonal only:')\n",
    "d(np.eye(2))\n",
    "print('2D array with zeros integers:')\n",
    "d(np.zeros((3,4), dtype=np.int))\n",
    "print('1D array with a sequence:')\n",
    "d(np.arange(1,10, 2))\n",
    "print('1D array with evenly spaced sequence:')\n",
    "d(np.linspace(1,10, 20))\n",
    "print('1D array load from txt (csv format):')\n",
    "d(np.genfromtxt('numpy-load-data.csv', delimiter=','))\n",
    "print('1D array full of initial value:')\n",
    "np.full(10, 23)\n",
    "print('1D array with random values:')\n",
    "np.random.random(10)\n"
   ]
  },
  {
   "cell_type": "code",
   "execution_count": 32,
   "metadata": {},
   "outputs": [
    {
     "name": "stdout",
     "output_type": "stream",
     "text": [
      "Players height and weight:\n"
     ]
    },
    {
     "data": {
      "text/plain": [
       "array([ 1.8 ,  2.15,  2.1 ,  2.1 ,  1.88,  1.76,  2.09,  2.  ])"
      ]
     },
     "metadata": {},
     "output_type": "display_data"
    },
    {
     "data": {
      "text/plain": [
       "array([73, 88, 90, 65, 55, 67, 73, 91])"
      ]
     },
     "metadata": {},
     "output_type": "display_data"
    }
   ],
   "source": [
    "height_m = [1.80, 2.15, 2.10, 2.10, 1.88, 1.76, 2.09, 2.00]\n",
    "weight_kg = [73, 88, 90, 65, 55, 67, 73, 91]\n",
    "\n",
    "# Create a numpy array from baseball: np_baseball\n",
    "np_height_m = np.array(height_m)\n",
    "np_weight_kg = np.array(weight_kg)\n",
    "\n",
    "print('Players height and weight:')\n",
    "d(np_height_m, np_weight_kg)"
   ]
  },
  {
   "cell_type": "markdown",
   "metadata": {},
   "source": [
    "# NumPy array operators\n",
    "\n",
    "You can use the usual math operators such as: `+`, `-`, `*`, `/`. Numpy will produce an new array by calculating element-wise with the given operator."
   ]
  },
  {
   "cell_type": "code",
   "execution_count": 33,
   "metadata": {},
   "outputs": [
    {
     "name": "stdout",
     "output_type": "stream",
     "text": [
      "Lighter players:\n"
     ]
    },
    {
     "data": {
      "text/plain": [
       "array([False,  True,  True,  True,  True, False,  True, False], dtype=bool)"
      ]
     },
     "metadata": {},
     "output_type": "display_data"
    },
    {
     "name": "stdout",
     "output_type": "stream",
     "text": [
      "BMIs of all baseball players whose BMI is below 21:\n"
     ]
    },
    {
     "data": {
      "text/plain": [
       "array([ 19.03731747,  20.40816327,  14.73922902,  15.56133997,  16.71207161])"
      ]
     },
     "metadata": {},
     "output_type": "display_data"
    }
   ],
   "source": [
    "# Calculate the BMI: bmi\n",
    "bmi = np_weight_kg / np_height_m ** 2\n",
    "\n",
    "# Create the light array\n",
    "light = bmi < 21\n",
    "\n",
    "print('Lighter players:')\n",
    "d(light)\n",
    "\n",
    "print('BMIs of all baseball players whose BMI is below 21:')\n",
    "d(bmi[light])"
   ]
  },
  {
   "cell_type": "markdown",
   "metadata": {},
   "source": [
    "**NOTE**: numpy arrays cannot contain elements with different types. If you try to build such a list, some of the elements' types are changed to end up with a homogeneous list. This is known as *type coercion*.\n",
    "Second, the typical arithmetic operators, such as +, -, * and / have a different meaning for regular Python lists and numpy arrays."
   ]
  },
  {
   "cell_type": "markdown",
   "metadata": {},
   "source": [
    "# Subsetting NumPy arrays"
   ]
  },
  {
   "cell_type": "code",
   "execution_count": 34,
   "metadata": {},
   "outputs": [
    {
     "name": "stdout",
     "output_type": "stream",
     "text": [
      "Weight for 5th player:\n"
     ]
    },
    {
     "data": {
      "text/plain": [
       "55"
      ]
     },
     "metadata": {},
     "output_type": "display_data"
    },
    {
     "name": "stdout",
     "output_type": "stream",
     "text": [
      "sub-array of np_height from 2nd to 5th players:\n"
     ]
    },
    {
     "data": {
      "text/plain": [
       "array([ 2.15,  2.1 ,  2.1 ])"
      ]
     },
     "metadata": {},
     "output_type": "display_data"
    }
   ],
   "source": [
    "print('Weight for 5th player:')\n",
    "d(np_weight_kg[4])\n",
    "\n",
    "print('sub-array of np_height from 2nd to 5th players:')\n",
    "d(np_height_m[1:4])"
   ]
  },
  {
   "cell_type": "markdown",
   "metadata": {},
   "source": [
    "# 2D NumPy arrays"
   ]
  },
  {
   "cell_type": "code",
   "execution_count": 28,
   "metadata": {},
   "outputs": [
    {
     "name": "stdout",
     "output_type": "stream",
     "text": [
      "Players array shape:\n"
     ]
    },
    {
     "data": {
      "text/plain": [
       "(8, 2)"
      ]
     },
     "metadata": {},
     "output_type": "display_data"
    },
    {
     "name": "stdout",
     "output_type": "stream",
     "text": [
      "Players array:\n"
     ]
    },
    {
     "data": {
      "text/plain": [
       "array([[  1.8 ,  73.  ],\n",
       "       [  2.15,  88.  ],\n",
       "       [  2.1 ,  90.  ],\n",
       "       [  2.1 ,  65.  ],\n",
       "       [  1.88,  55.  ],\n",
       "       [  1.76,  67.  ],\n",
       "       [  2.09,  73.  ],\n",
       "       [  2.  ,  91.  ]])"
      ]
     },
     "metadata": {},
     "output_type": "display_data"
    }
   ],
   "source": [
    "players = [np_height_m, np_weight_kg]\n",
    "\n",
    "# Create a 2D numpy array\n",
    "np_players = np.transpose(np.array(players))\n",
    "\n",
    "print('Players array shape:')\n",
    "d(np_players.shape)\n",
    "\n",
    "print('Players array:')\n",
    "d(np_players)"
   ]
  },
  {
   "cell_type": "markdown",
   "metadata": {},
   "source": [
    "# Subsetting 2D NumPy arrays"
   ]
  },
  {
   "cell_type": "code",
   "execution_count": 37,
   "metadata": {},
   "outputs": [
    {
     "name": "stdout",
     "output_type": "stream",
     "text": [
      "The 5th player:\n"
     ]
    },
    {
     "data": {
      "text/plain": [
       "array([  1.88,  55.  ])"
      ]
     },
     "metadata": {},
     "output_type": "display_data"
    },
    {
     "name": "stdout",
     "output_type": "stream",
     "text": [
      "Select the entire second column (weight):\n"
     ]
    },
    {
     "data": {
      "text/plain": [
       "array([ 73.,  88.,  90.,  65.,  55.,  67.,  73.,  91.])"
      ]
     },
     "metadata": {},
     "output_type": "display_data"
    },
    {
     "name": "stdout",
     "output_type": "stream",
     "text": [
      "Height of 2th player:\n"
     ]
    },
    {
     "data": {
      "text/plain": [
       "2.1499999999999999"
      ]
     },
     "metadata": {},
     "output_type": "display_data"
    }
   ],
   "source": [
    "print('The 5th player:')\n",
    "d(np_players[4, :])\n",
    "\n",
    "print('Select the entire second column (weight):')\n",
    "d(np_players[:, 1])\n",
    "\n",
    "print('Height of 2th player:')\n",
    "d(np_players[1, 0])"
   ]
  },
  {
   "cell_type": "markdown",
   "metadata": {},
   "source": [
    "# Basic statistics"
   ]
  },
  {
   "cell_type": "code",
   "execution_count": 31,
   "metadata": {},
   "outputs": [
    {
     "name": "stdout",
     "output_type": "stream",
     "text": [
      "Player height mean:\n"
     ]
    },
    {
     "data": {
      "text/plain": [
       "1.9849999999999999"
      ]
     },
     "metadata": {},
     "output_type": "display_data"
    },
    {
     "name": "stdout",
     "output_type": "stream",
     "text": [
      "Player height median:\n"
     ]
    },
    {
     "data": {
      "text/plain": [
       "2.0449999999999999"
      ]
     },
     "metadata": {},
     "output_type": "display_data"
    },
    {
     "name": "stdout",
     "output_type": "stream",
     "text": [
      "Player mean on both height and weight:\n"
     ]
    },
    {
     "data": {
      "text/plain": [
       "array([  1.985,  75.25 ])"
      ]
     },
     "metadata": {},
     "output_type": "display_data"
    },
    {
     "name": "stdout",
     "output_type": "stream",
     "text": [
      "Player height std:\n"
     ]
    },
    {
     "data": {
      "text/plain": [
       "0.14177446878757824"
      ]
     },
     "metadata": {},
     "output_type": "display_data"
    },
    {
     "name": "stdout",
     "output_type": "stream",
     "text": [
      "Player max, min and sum height:\n"
     ]
    },
    {
     "data": {
      "text/plain": [
       "2.1499999999999999"
      ]
     },
     "metadata": {},
     "output_type": "display_data"
    },
    {
     "data": {
      "text/plain": [
       "1.76"
      ]
     },
     "metadata": {},
     "output_type": "display_data"
    },
    {
     "data": {
      "text/plain": [
       "15.879999999999999"
      ]
     },
     "metadata": {},
     "output_type": "display_data"
    },
    {
     "name": "stdout",
     "output_type": "stream",
     "text": [
      "Correlation between height and weight:\n",
      "[[ 1.          0.50089576]\n",
      " [ 0.50089576  1.        ]]\n"
     ]
    }
   ],
   "source": [
    "print('Player height mean:')\n",
    "d(np_height_m.mean()) # Or from the players array: np.mean(np_players[:, 0])\n",
    "\n",
    "print('Player height median:')\n",
    "d(np.median(np_height_m))\n",
    "\n",
    "print('Player mean on both height and weight:')\n",
    "d(np_players.mean(axis=0))\n",
    "\n",
    "print('Player height std:')\n",
    "d(np_height_m.std())\n",
    "\n",
    "print('Player max, min and sum height:')\n",
    "d(np_height_m.max(), np_height_m.min(), np_height_m.sum())\n",
    "\n",
    "print('Correlation between height and weight:')\n",
    "print(np.corrcoef(np_players[:, 0], np_players[:, 1]))"
   ]
  },
  {
   "cell_type": "markdown",
   "metadata": {},
   "source": [
    "## Reshape"
   ]
  },
  {
   "cell_type": "code",
   "execution_count": 46,
   "metadata": {},
   "outputs": [
    {
     "name": "stdout",
     "output_type": "stream",
     "text": [
      "Reshape the height array to a 2D array (2x4):\n"
     ]
    },
    {
     "data": {
      "text/plain": [
       "array([[ 1.8 ,  2.15,  2.1 ,  2.1 ],\n",
       "       [ 1.88,  1.76,  2.09,  2.  ]])"
      ]
     },
     "metadata": {},
     "output_type": "display_data"
    },
    {
     "name": "stdout",
     "output_type": "stream",
     "text": [
      "Transpose the players 2D array:\n"
     ]
    },
    {
     "data": {
      "text/plain": [
       "array([[  1.8 ,   2.15,   2.1 ,   2.1 ,   1.88,   1.76,   2.09,   2.  ],\n",
       "       [ 73.  ,  88.  ,  90.  ,  65.  ,  55.  ,  67.  ,  73.  ,  91.  ]])"
      ]
     },
     "metadata": {},
     "output_type": "display_data"
    },
    {
     "data": {
      "text/plain": [
       "array([[  1.8 ,  73.  ],\n",
       "       [  2.15,  88.  ],\n",
       "       [  2.1 ,  90.  ],\n",
       "       [  2.1 ,  65.  ],\n",
       "       [  1.88,  55.  ],\n",
       "       [  1.76,  67.  ],\n",
       "       [  2.09,  73.  ],\n",
       "       [  2.  ,  91.  ]])"
      ]
     },
     "metadata": {},
     "output_type": "display_data"
    }
   ],
   "source": [
    "print('Reshape the height array to a 2D array (2x4):')\n",
    "d(np_height_m.reshape((2,4)))\n",
    "\n",
    "print('Transpose the players 2D array:')\n",
    "d(np_players.transpose()) # Or np_players.T\n"
   ]
  },
  {
   "cell_type": "markdown",
   "metadata": {},
   "source": [
    "## More operations"
   ]
  },
  {
   "cell_type": "code",
   "execution_count": 59,
   "metadata": {},
   "outputs": [
    {
     "name": "stdout",
     "output_type": "stream",
     "text": [
      "Cumulative sum of the Player heights:\n"
     ]
    },
    {
     "data": {
      "text/plain": [
       "array([  1.8 ,   3.95,   6.05,   8.15,  10.03,  11.79,  13.88,  15.88])"
      ]
     },
     "metadata": {},
     "output_type": "display_data"
    },
    {
     "name": "stdout",
     "output_type": "stream",
     "text": [
      "Array copy:\n"
     ]
    },
    {
     "data": {
      "text/plain": [
       "array([[  1.8 ,  73.  ],\n",
       "       [  2.15,  88.  ],\n",
       "       [  2.1 ,  90.  ],\n",
       "       [  2.1 ,  65.  ],\n",
       "       [  1.88,  55.  ],\n",
       "       [  1.76,  67.  ],\n",
       "       [  2.09,  73.  ],\n",
       "       [  2.  ,  91.  ]])"
      ]
     },
     "metadata": {},
     "output_type": "display_data"
    },
    {
     "name": "stdout",
     "output_type": "stream",
     "text": [
      "Switch data type:\n"
     ]
    },
    {
     "data": {
      "text/plain": [
       "array([[ 1, 73],\n",
       "       [ 2, 88],\n",
       "       [ 2, 90],\n",
       "       [ 2, 65],\n",
       "       [ 1, 55],\n",
       "       [ 1, 67],\n",
       "       [ 2, 73],\n",
       "       [ 2, 91]])"
      ]
     },
     "metadata": {},
     "output_type": "display_data"
    }
   ],
   "source": [
    "print('Cumulative sum of the Player heights:')\n",
    "d(np_height_m.cumsum())\n",
    "\n",
    "print('Array copy:')\n",
    "d(np_players.copy())\n",
    "\n",
    "print('Switch data type:')\n",
    "d(np_players.astype(np.int))"
   ]
  }
 ],
 "metadata": {
  "kernelspec": {
   "display_name": "Python 3",
   "language": "python",
   "name": "python3"
  },
  "language_info": {
   "codemirror_mode": {
    "name": "ipython",
    "version": 3
   },
   "file_extension": ".py",
   "mimetype": "text/x-python",
   "name": "python",
   "nbconvert_exporter": "python",
   "pygments_lexer": "ipython3",
   "version": "3.6.3"
  }
 },
 "nbformat": 4,
 "nbformat_minor": 2
}
