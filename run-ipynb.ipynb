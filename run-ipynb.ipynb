{
 "cells": [
  {
   "cell_type": "markdown",
   "metadata": {},
   "source": [
    "## Run IPython notebooks from URL\n",
    "The following is a small function that will fetch from URL the content of a Jupyter notebook, store into a temporary file and run it to the current notebook. The code will be loaded for interactive work."
   ]
  },
  {
   "cell_type": "code",
   "execution_count": 67,
   "metadata": {
    "collapsed": true
   },
   "outputs": [],
   "source": [
    "def run_ipynb(url):\n",
    "    import requests, tempfile\n",
    "    with tempfile.NamedTemporaryFile(suffix='.ipynb') as file_object:\n",
    "        file_object.write(requests.get(url).content)\n",
    "        file_object.flush()\n",
    "        %run $file_object.name"
   ]
  },
  {
   "cell_type": "code",
   "execution_count": 68,
   "metadata": {},
   "outputs": [
    {
     "data": {
      "application/vnd.jupyter.widget-view+json": {
       "model_id": "749b5697b97f4fd2b40042edd26655f8"
      }
     },
     "metadata": {},
     "output_type": "display_data"
    }
   ],
   "source": [
    "# Example:\n",
    "run_ipynb('https://raw.githubusercontent.com/fsquillace/jupyter-notebooks-examples/master/ipywidgets-interact.ipynb')"
   ]
  }
 ],
 "metadata": {
  "kernelspec": {
   "display_name": "Python 3",
   "language": "python",
   "name": "python3"
  },
  "language_info": {
   "codemirror_mode": {
    "name": "ipython",
    "version": 3
   },
   "file_extension": ".py",
   "mimetype": "text/x-python",
   "name": "python",
   "nbconvert_exporter": "python",
   "pygments_lexer": "ipython3",
   "version": "3.6.3"
  }
 },
 "nbformat": 4,
 "nbformat_minor": 2
}
