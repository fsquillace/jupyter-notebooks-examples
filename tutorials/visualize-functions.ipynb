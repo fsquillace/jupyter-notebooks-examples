{
 "cells": [
  {
   "cell_type": "markdown",
   "metadata": {},
   "source": [
    "### Visualize a function controlled by sliders\n",
    "This notebook is an example of how a certain function can be studied my using the ipywidgets and matplotlib. In particular, the notebook shows how you can control the function parameters (`a`, `b`, ...) via sliders which will change the shape of the function accordingly."
   ]
  },
  {
   "cell_type": "code",
   "execution_count": 12,
   "metadata": {
    "collapsed": true
   },
   "outputs": [],
   "source": [
    "from collections import namedtuple\n",
    "from IPython.display import display\n",
    "from ipywidgets import interactive\n",
    "\n",
    "import matplotlib.pyplot as plt\n",
    "import numpy as np\n",
    "\n",
    "%matplotlib inline\n",
    "\n",
    "Parameter=namedtuple('Parameter', ['name', 'min', 'max', 'step'])\n",
    "XRange=namedtuple('XRange', ['min', 'max', 'points'])\n",
    "\n",
    "# The function inputs\n",
    "XRANGE = XRange(0, 100, 500)\n",
    "PARAMETERS= (\n",
    "    Parameter('a', 0, 3, 1),\n",
    "    Parameter('b', 0, 10, 1)\n",
    ")\n",
    "\n",
    "# The function to evaluate\n",
    "def myfunc(x, a, b):\n",
    "    return np.sqrt(a*x) + a*x**2 + x**b"
   ]
  },
  {
   "cell_type": "code",
   "execution_count": 36,
   "metadata": {},
   "outputs": [
    {
     "data": {
      "application/vnd.jupyter.widget-view+json": {
       "model_id": "005dc12ed59844c388dcf30b48824d4f"
      }
     },
     "metadata": {},
     "output_type": "display_data"
    },
    {
     "name": "stdout",
     "output_type": "stream",
     "text": [
      "{'name': 'value', 'old': 5, 'new': 6, 'owner': <ipywidgets.widgets.widget_int.IntSlider object at 0x7fa16b950710>, 'type': 'change'}\n",
      "{'name': 'value', 'old': 6, 'new': 7, 'owner': <ipywidgets.widgets.widget_int.IntSlider object at 0x7fa16b950710>, 'type': 'change'}\n",
      "{'name': 'value', 'old': 7, 'new': 6, 'owner': <ipywidgets.widgets.widget_int.IntSlider object at 0x7fa16b950710>, 'type': 'change'}\n",
      "{'name': 'value', 'old': 6, 'new': 4, 'owner': <ipywidgets.widgets.widget_int.IntSlider object at 0x7fa16b950710>, 'type': 'change'}\n",
      "{'name': 'value', 'old': 4, 'new': 3, 'owner': <ipywidgets.widgets.widget_int.IntSlider object at 0x7fa16b950710>, 'type': 'change'}\n",
      "{'name': 'value', 'old': 1, 'new': 2, 'owner': <ipywidgets.widgets.widget_int.IntSlider object at 0x7fa16b71e080>, 'type': 'change'}\n"
     ]
    }
   ],
   "source": [
    "x = np.linspace(XRANGE.min, XRANGE.max, XRANGE.points)\n",
    "\n",
    "def func_wrapper(**kwargs):\n",
    "    r = myfunc(x, **kwargs)\n",
    "    plt.figure(figsize=(8,5))\n",
    "    plt.plot(x, r, c='k', lw=3)\n",
    "    plt.grid(True)\n",
    "    plt.show()\n",
    "    return r\n",
    "    \n",
    "box = interactive(func_wrapper, **{par.name:(par.min, par.max, par.step) for par in PARAMETERS})\n",
    "display(box)\n",
    "\n",
    "# Show stream of changes in the sliders\n",
    "for slider in box.children[:-1]:\n",
    "    slider.observe(lambda change: print(change), names='value')"
   ]
  },
  {
   "cell_type": "markdown",
   "metadata": {},
   "source": [
    "### Ideal fitting function and actual data generating function with noise"
   ]
  },
  {
   "cell_type": "code",
   "execution_count": 33,
   "metadata": {},
   "outputs": [
    {
     "data": {
      "application/vnd.jupyter.widget-view+json": {
       "model_id": "755c9bb0b1aa4675913290b7513b61c4"
      }
     },
     "metadata": {},
     "output_type": "display_data"
    }
   ],
   "source": [
    "from ipywidgets import interactive\n",
    "from IPython.display import display\n",
    "\n",
    "import numpy as np\n",
    "import matplotlib.pyplot as plt\n",
    "#%matplotlib inline\n",
    "\n",
    "def func(amplitude, ideal_mu, ideal_sigma, noise_sd, noise_mean, n_samples):\n",
    "    x=np.linspace(-2,2,n_samples)\n",
    "    r = amplitude * np.exp(-(x-ideal_mu)**2/(2*ideal_sigma**2+0000.1))\n",
    "    plt.figure(figsize=(8,5))\n",
    "    plt.plot(x,r,c='k',lw=3)\n",
    "    r = r + np.random.normal(loc=noise_mean, scale=noise_sd, size=n_samples)\n",
    "    plt.scatter(x,r,edgecolors='k',c='yellow',s=60)\n",
    "    plt.grid(True)\n",
    "    plt.show()\n",
    "    return (r)\n",
    "\n",
    "y=interactive(func,amplitude=[1,2,3,4,5], ideal_mu=(-5,5,0.5),\n",
    "              ideal_sigma=(0,2,0.2),\n",
    "              noise_sd=(0,1,0.1), noise_mean=(-1,1,0.2),\n",
    "              n_samples=(25,50,5))\n",
    "display(y)"
   ]
  }
 ],
 "metadata": {
  "kernelspec": {
   "display_name": "Python 3",
   "language": "python",
   "name": "python3"
  },
  "language_info": {
   "codemirror_mode": {
    "name": "ipython",
    "version": 3
   },
   "file_extension": ".py",
   "mimetype": "text/x-python",
   "name": "python",
   "nbconvert_exporter": "python",
   "pygments_lexer": "ipython3",
   "version": "3.6.3"
  }
 },
 "nbformat": 4,
 "nbformat_minor": 2
}
