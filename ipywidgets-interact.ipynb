{
 "cells": [
  {
   "cell_type": "markdown",
   "metadata": {},
   "source": [
    "### Ipywidgets interact examples\n",
    "This example shows how powerful is the `interact` function from `ipywidget` package.\n",
    "Ipywidgets allows to have an immediate connection with the code you are working on by tuning the parameter values with UI controls.\n",
    "More detailed documentation about `interact` is [here](https://ipywidgets.readthedocs.io/en/latest/examples/Using%20Interact.html#Basic-interact)."
   ]
  },
  {
   "cell_type": "code",
   "execution_count": 1,
   "metadata": {},
   "outputs": [
    {
     "data": {
      "application/vnd.jupyter.widget-view+json": {
       "model_id": "aad0bf9a1ae2448d8ffd5a39e98b1f5d"
      }
     },
     "metadata": {},
     "output_type": "display_data"
    }
   ],
   "source": [
    "from ipywidgets import interact, fixed\n",
    "\n",
    "@interact(a=True, b=(0, 10, 1), c=30, d=\"Hello there!\", e=fixed(20), f=['orange','apple'], g={'one':1,'two':2})\n",
    "def myfunc(a, b, c, d, e, f, g):\n",
    "    return (a, b, c, d, e, f, g)\n"
   ]
  }
 ],
 "metadata": {
  "kernelspec": {
   "display_name": "Python 3",
   "language": "python",
   "name": "python3"
  },
  "language_info": {
   "codemirror_mode": {
    "name": "ipython",
    "version": 3
   },
   "file_extension": ".py",
   "mimetype": "text/x-python",
   "name": "python",
   "nbconvert_exporter": "python",
   "pygments_lexer": "ipython3",
   "version": "3.6.3"
  }
 },
 "nbformat": 4,
 "nbformat_minor": 2
}
