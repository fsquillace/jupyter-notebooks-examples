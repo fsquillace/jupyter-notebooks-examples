{
 "cells": [
  {
   "cell_type": "code",
   "execution_count": 2,
   "metadata": {
    "collapsed": true
   },
   "outputs": [],
   "source": [
    "import numpy as np"
   ]
  },
  {
   "cell_type": "markdown",
   "metadata": {},
   "source": [
    "## Array Creation"
   ]
  },
  {
   "cell_type": "code",
   "execution_count": 5,
   "metadata": {},
   "outputs": [
    {
     "name": "stdout",
     "output_type": "stream",
     "text": [
      "[ 0.  0.  0.  0.  0.  0.  0.  0.  0.  0.]\n",
      "[ 1  2  3  4  5  6  7  8  9 10 11 12 13 14 15 16 17 18 19 20 21 22 23 24 25\n",
      " 26 27 28 29 30 31 32 33 34 35 36 37 38 39 40 41 42 43 44 45 46 47 48 49 50\n",
      " 51 52 53 54 55 56 57 58 59 60 61 62 63 64 65 66 67 68 69 70 71 72 73 74 75\n",
      " 76 77 78 79 80 81 82 83 84 85 86 87 88 89 90 91 92 93 94 95 96 97 98 99]\n",
      "[   1.            3.02040816    5.04081633    7.06122449    9.08163265\n",
      "   11.10204082   13.12244898   15.14285714   17.16326531   19.18367347\n",
      "   21.20408163   23.2244898    25.24489796   27.26530612   29.28571429\n",
      "   31.30612245   33.32653061   35.34693878   37.36734694   39.3877551\n",
      "   41.40816327   43.42857143   45.44897959   47.46938776   49.48979592\n",
      "   51.51020408   53.53061224   55.55102041   57.57142857   59.59183673\n",
      "   61.6122449    63.63265306   65.65306122   67.67346939   69.69387755\n",
      "   71.71428571   73.73469388   75.75510204   77.7755102    79.79591837\n",
      "   81.81632653   83.83673469   85.85714286   87.87755102   89.89795918\n",
      "   91.91836735   93.93877551   95.95918367   97.97959184  100.        ]\n"
     ]
    }
   ],
   "source": [
    "print(np.zeros(10))\n",
    "print(np.arange(1,100))\n",
    "print(np.linspace(1,100))"
   ]
  },
  {
   "cell_type": "code",
   "execution_count": 30,
   "metadata": {},
   "outputs": [
    {
     "name": "stdout",
     "output_type": "stream",
     "text": [
      "[180 215 210 210 188 176 209 200] [73 88 90 65 55 67 73 91]\n"
     ]
    }
   ],
   "source": [
    "height_m = [1.80, 2.15, 2.10, 2.10, 1.88, 1.76, 2.09, 2.00]\n",
    "weight_kg = [73, 88, 90, 65, 55, 67, 73, 91]\n",
    "\n",
    "# Create a numpy array from baseball: np_baseball\n",
    "np_height_m = np.array(height_m)\n",
    "np_weight_kg = np.array(weight_kg)\n",
    "\n",
    "print(np_height, np_weight)"
   ]
  },
  {
   "cell_type": "markdown",
   "metadata": {},
   "source": [
    "# NumPy array operators\n",
    "\n",
    "You can use the usual math operators such as: `+`, `-`, `*`, `/`. Numpy will produce an new array by calculating element-wise with the given operator."
   ]
  },
  {
   "cell_type": "code",
   "execution_count": 31,
   "metadata": {},
   "outputs": [
    {
     "name": "stdout",
     "output_type": "stream",
     "text": [
      "[False  True  True  True  True False  True False]\n",
      "[ 19.03731747  20.40816327  14.73922902  15.56133997  16.71207161]\n"
     ]
    }
   ],
   "source": [
    "# Calculate the BMI: bmi\n",
    "bmi = np_weight_kg / np_height_m ** 2\n",
    "\n",
    "# Create the light array\n",
    "light = bmi < 21\n",
    "\n",
    "# Print out light\n",
    "print(light)\n",
    "\n",
    "# Print out BMIs of all baseball players whose BMI is below 21\n",
    "print(bmi[light])"
   ]
  },
  {
   "cell_type": "markdown",
   "metadata": {},
   "source": [
    "**NOTE**: numpy arrays cannot contain elements with different types. If you try to build such a list, some of the elements' types are changed to end up with a homogeneous list. This is known as *type coercion*.\n",
    "Second, the typical arithmetic operators, such as +, -, * and / have a different meaning for regular Python lists and numpy arrays."
   ]
  },
  {
   "cell_type": "markdown",
   "metadata": {},
   "source": [
    "# Subsetting NumPy arrays"
   ]
  },
  {
   "cell_type": "code",
   "execution_count": 32,
   "metadata": {},
   "outputs": [
    {
     "name": "stdout",
     "output_type": "stream",
     "text": [
      "55\n",
      "[ 2.15  2.1   2.1 ]\n"
     ]
    }
   ],
   "source": [
    "# Print out the weight for 5th player\n",
    "print(np_weight_kg[4])\n",
    "\n",
    "# Print out sub-array of np_height from 2nd to 5th players\n",
    "print(np_height_m[1:4])"
   ]
  },
  {
   "cell_type": "markdown",
   "metadata": {},
   "source": [
    "# 2D NumPy arrays"
   ]
  },
  {
   "cell_type": "code",
   "execution_count": 33,
   "metadata": {},
   "outputs": [
    {
     "name": "stdout",
     "output_type": "stream",
     "text": [
      "(8, 2)\n"
     ]
    }
   ],
   "source": [
    "players = [np_height_m, np_weight_kg]\n",
    "\n",
    "# Create a 2D numpy array\n",
    "np_players = np.transpose(np.array(players))\n",
    "\n",
    "# Print out the shape\n",
    "print(np_players.shape)"
   ]
  },
  {
   "cell_type": "markdown",
   "metadata": {},
   "source": [
    "# Subsetting 2D NumPy arrays"
   ]
  },
  {
   "cell_type": "code",
   "execution_count": 34,
   "metadata": {},
   "outputs": [
    {
     "name": "stdout",
     "output_type": "stream",
     "text": [
      "[  1.88  55.  ]\n",
      "[ 73.  88.  90.  65.  55.  67.  73.  91.]\n",
      "2.15\n"
     ]
    }
   ],
   "source": [
    "# Print out the 5th player\n",
    "print(np_players[4, :])\n",
    "\n",
    "# Select the entire second column (weight)\n",
    "print(np_players[:, 1])\n",
    "\n",
    "# Print out height of 2th player\n",
    "print(np_players[1, 0])"
   ]
  },
  {
   "cell_type": "markdown",
   "metadata": {},
   "source": [
    "# Basic statistics"
   ]
  },
  {
   "cell_type": "code",
   "execution_count": 35,
   "metadata": {},
   "outputs": [
    {
     "name": "stdout",
     "output_type": "stream",
     "text": [
      "1.985\n",
      "2.045\n",
      "0.141774468788\n",
      "[[ 1.          0.50089576]\n",
      " [ 0.50089576  1.        ]]\n"
     ]
    }
   ],
   "source": [
    "# Print out the mean of height\n",
    "print(np.mean(np_players[:, 0]))\n",
    "\n",
    "# Print out the median of height\n",
    "print(np.median(np_players[:, 0]))\n",
    "\n",
    "# Print out the stdev of height\n",
    "print(np.std(np_players[:, 0]))\n",
    "\n",
    "# Print out the correlation between height and weight\n",
    "print(np.corrcoef(np_players[:, 0], np_players[:, 1]))"
   ]
  }
 ],
 "metadata": {
  "kernelspec": {
   "display_name": "Python 3",
   "language": "python",
   "name": "python3"
  },
  "language_info": {
   "codemirror_mode": {
    "name": "ipython",
    "version": 3
   },
   "file_extension": ".py",
   "mimetype": "text/x-python",
   "name": "python",
   "nbconvert_exporter": "python",
   "pygments_lexer": "ipython3",
   "version": "3.6.3"
  }
 },
 "nbformat": 4,
 "nbformat_minor": 2
}
