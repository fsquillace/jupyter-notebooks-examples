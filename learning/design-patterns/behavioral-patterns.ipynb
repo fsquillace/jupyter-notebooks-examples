{
 "cells": [
  {
   "cell_type": "markdown",
   "metadata": {},
   "source": [
    "# Behavioral Patterns\n",
    "\n",
    "See also:\n",
    "- https://github.com/faif/python-patterns\n",
    "- https://sourcemaking.com/design_patterns/behavioral_patterns"
   ]
  },
  {
   "cell_type": "markdown",
   "metadata": {},
   "source": [
    "## Observer\n",
    "\n",
    "Define a one-to-many dependency between objects so that when one object\n",
    "changes state, all its dependents are notified and updatedautomatically."
   ]
  },
  {
   "cell_type": "code",
   "execution_count": 5,
   "metadata": {
    "collapsed": true
   },
   "outputs": [],
   "source": [
    "class Subject(object): #Represents what is being 'observed'\n",
    "    def __init__(self):\n",
    "        self._observers = [] # This where references to all the observers are being kept\n",
    "                             # Note that this is a one-to-many relationship: there will be one subject to be observed by multiple _observers\n",
    "\n",
    "    def attach(self, observer):\n",
    "        if observer not in self._observers: #If the observer is not already in the observers list\n",
    "            self._observers.append(observer) # append the observer to the list\n",
    "\n",
    "    def detach(self, observer): #Simply remove the observer\n",
    "        try:\n",
    "            self._observers.remove(observer)\n",
    "        except ValueError:\n",
    "            pass\n",
    "\n",
    "    def notify(self):\n",
    "        for observer in self._observers:\n",
    "            observer.update(self) # Alert the observers!\n",
    "\n",
    "class Core(Subject): #Inherits from the Subject class\n",
    "\n",
    "    def __init__(self, name=\"\"):\n",
    "        Subject.__init__(self)\n",
    "        self._name = name #Set the name of the core\n",
    "        self._temp = 0 #Initialize the temperature of the core\n",
    "\n",
    "    @property #Getter that gets the core temperature\n",
    "    def temp(self):\n",
    "        return self._temp\n",
    "\n",
    "    @temp.setter #Setter that sets the core temperature\n",
    "    def temp(self, temp):\n",
    "        self._temp = temp\n",
    "        self.notify() #Notify the observers whenever somebody changes the core temperature\n",
    "\n",
    "class TempViewer(object):\n",
    "    def update(self, subject): #Alert method that is invoked when the notify() method in a concrete subject is invoked\n",
    "        print(\"Temperature Viewer: {} has Temperature {}\".format(subject._name, subject._temp))"
   ]
  },
  {
   "cell_type": "code",
   "execution_count": 7,
   "metadata": {},
   "outputs": [
    {
     "name": "stdout",
     "output_type": "stream",
     "text": [
      "Temperature Viewer: Core 1 has Temperature 80\n",
      "Temperature Viewer: Core 1 has Temperature 80\n",
      "Temperature Viewer: Core 1 has Temperature 90\n",
      "Temperature Viewer: Core 1 has Temperature 90\n"
     ]
    }
   ],
   "source": [
    "#Let's create our subject\n",
    "c1 = Core(\"Core 1\")\n",
    "\n",
    "#Let's create our observers\n",
    "v1 = TempViewer()\n",
    "v2 = TempViewer()\n",
    "\n",
    "#Let's attach our observers to the first core\n",
    "c1.attach(v1)\n",
    "c1.attach(v2)\n",
    "\n",
    "#Let's change the temperature of our first core\n",
    "c1.temp = 80\n",
    "c1.temp = 90"
   ]
  },
  {
   "cell_type": "markdown",
   "metadata": {},
   "source": [
    "## Visitor\n",
    "\n",
    "Represent an operation to be performed on the elements of an object\n",
    "structure. Visitor lets you define a new operation without changing the\n",
    "classes of the elements on which it operates.\n",
    "\n",
    "Note: Can be used to traverse the components of a structure build via Composite Pattern."
   ]
  },
  {
   "cell_type": "code",
   "execution_count": 11,
   "metadata": {
    "collapsed": true
   },
   "outputs": [],
   "source": [
    "class House(object): #The class being visited \n",
    "    def accept(self, visitor):\n",
    "        \"\"\"Interface to accept a visitor\"\"\"\n",
    "        visitor.visit(self) #Triggers the visiting operation!\n",
    "        \n",
    "        # For a composite structure you can make sure children would accept the visitor\n",
    "        # for child in self.children():\n",
    "             # child.accept(visitor)\n",
    "\n",
    "    def work_on_hvac(self, hvac_specialist):\n",
    "        print(self, \"worked on by\", hvac_specialist) #Note that we now have a reference to the HVAC specialist object in the house object!\n",
    "\n",
    "    def work_on_electricity(self, electrician):\n",
    "        print(self, \"worked on by\", electrician) #Note that we now have a reference to the electrician object in the house object!\n",
    "\n",
    "    def __str__(self):\n",
    "        \"\"\"Simply return the class name when the House object is printed\"\"\"\n",
    "        return self.__class__.__name__\n",
    "\n",
    "\n",
    "class Visitor(object):\n",
    "    \"\"\"Abstract visitor\"\"\"\n",
    "    def __str__(self):\n",
    "        \"\"\"Simply return the class name when the Visitor object is printed\"\"\"\n",
    "        return self.__class__.__name__\n",
    "\n",
    "\n",
    "class HvacSpecialist(Visitor): #Inherits from the parent class, Visitor\n",
    "    \"\"\"Concrete visitor: HVAC specialist\"\"\"\n",
    "    def visit(self, house):\n",
    "        house.work_on_hvac(self) #Note that the visitor now has a reference to the house object\n",
    "\n",
    "\n",
    "class Electrician(Visitor): #Inherits from the parent class, Visitor\n",
    "    \"\"\"Concrete visitor: electrician\"\"\"\n",
    "    def visit(self, house):\n",
    "        house.work_on_electricity(self) #Note that the visitor now has a reference to the house object"
   ]
  },
  {
   "cell_type": "code",
   "execution_count": 10,
   "metadata": {},
   "outputs": [
    {
     "name": "stdout",
     "output_type": "stream",
     "text": [
      "House worked on by HvacSpecialist\n",
      "House worked on by Electrician\n"
     ]
    }
   ],
   "source": [
    "#Create an HVAC specialist\n",
    "hv = HvacSpecialist()\n",
    "#Create an electrician\n",
    "e = Electrician()\n",
    "\n",
    "#Create a house\n",
    "home = House()\n",
    "\n",
    "#Let the house accept the HVAC specialist and work on the house by invoking the visit() method\n",
    "home.accept(hv)\n",
    "\n",
    "#Let the house accept the electrician and work on the house by invoking the visit() method\n",
    "home.accept(e)"
   ]
  },
  {
   "cell_type": "markdown",
   "metadata": {},
   "source": [
    "## Iterator\n",
    "\n",
    "Provide a way to access the elements of an aggregate objects equentially\n",
    "without exposing its underlying representation.\n",
    "\n",
    "https://docs.python.org/3/library/itertools.html"
   ]
  },
  {
   "cell_type": "code",
   "execution_count": 33,
   "metadata": {},
   "outputs": [
    {
     "name": "stdout",
     "output_type": "stream",
     "text": [
      "A\n",
      "B\n",
      "C\n",
      "1\n",
      "2\n",
      "3\n",
      "[10, 10, 10]\n",
      "1 [(1, 2), (1, 9)]\n",
      "3 [(3, 3), (3, 6)]\n",
      "4 [(4, 5)]\n",
      "[1, 4]\n"
     ]
    }
   ],
   "source": [
    "from itertools import count, cycle, repeat, groupby, takewhile\n",
    "\n",
    "for c in cycle('ABCD'):\n",
    "    if c == 'D':\n",
    "        break\n",
    "    print(c)\n",
    "    \n",
    "for i in count(1):\n",
    "    if i == 4:\n",
    "        break\n",
    "    print(i)\n",
    "    \n",
    "print(list(repeat(10, 3)))\n",
    "\n",
    "keyfunc = lambda x: x[0]\n",
    "for k, v in groupby(sorted([(1,2), (3,3), (4,5), (3,6), (1,9)], key=keyfunc), key=keyfunc):\n",
    "    print(k, list(v))\n",
    "    \n",
    "print(list(takewhile(lambda x: x<5, [1,4,6,4,1])))"
   ]
  },
  {
   "cell_type": "markdown",
   "metadata": {},
   "source": [
    "## Strategy\n",
    "Define a family of algorithms, encapsulate each one, and make them\n",
    "interchangeable. Strategy lets the algorithm vary independently from\n",
    "clients that use it."
   ]
  },
  {
   "cell_type": "code",
   "execution_count": 37,
   "metadata": {
    "collapsed": true
   },
   "outputs": [],
   "source": [
    "import abc\n",
    "\n",
    "class Context:\n",
    "    \"\"\"\n",
    "    Define the interface of interest to clients.\n",
    "    Maintain a reference to a Strategy object.\n",
    "    \"\"\"\n",
    "\n",
    "    def __init__(self, strategy):\n",
    "        self._strategy = strategy\n",
    "\n",
    "    def context_interface(self):\n",
    "        self._strategy.algorithm_interface()\n",
    "\n",
    "\n",
    "class Strategy(metaclass=abc.ABCMeta):\n",
    "    \"\"\"\n",
    "    Declare an interface common to all supported algorithms. Context\n",
    "    uses this interface to call the algorithm defined by a\n",
    "    ConcreteStrategy.\n",
    "    \"\"\"\n",
    "\n",
    "    @abc.abstractmethod\n",
    "    def algorithm_interface(self):\n",
    "        pass\n",
    "\n",
    "\n",
    "class ConcreteStrategyA(Strategy):\n",
    "    \"\"\"\n",
    "    Implement the algorithm using the Strategy interface.\n",
    "    \"\"\"\n",
    "\n",
    "    def algorithm_interface(self):\n",
    "        pass\n",
    "\n",
    "\n",
    "class ConcreteStrategyB(Strategy):\n",
    "    \"\"\"\n",
    "    Implement the algorithm using the Strategy interface.\n",
    "    \"\"\"\n",
    "\n",
    "    def algorithm_interface(self):\n",
    "        pass\n",
    "\n",
    "\n",
    "concrete_strategy_a = ConcreteStrategyA()\n",
    "context = Context(concrete_strategy_a)\n",
    "context.context_interface()"
   ]
  },
  {
   "cell_type": "markdown",
   "metadata": {},
   "source": [
    "## Chain of Responsibility\n",
    "Avoid coupling the sender of a request to its receiver by giving\n",
    "more than one object a chance to handle the request. Chain the receiving\n",
    "objects and pass the request along the chain until an object handles it."
   ]
  },
  {
   "cell_type": "code",
   "execution_count": 41,
   "metadata": {},
   "outputs": [
    {
     "name": "stdout",
     "output_type": "stream",
     "text": [
      "Request 2 handled in handler 1\n",
      "Request 5 handled in handler 1\n",
      "End of chain, no handler for 30\n"
     ]
    }
   ],
   "source": [
    "class Handler(object): #Abstract handler\n",
    "    \"\"\"Abstract Handler\"\"\"\n",
    "    def __init__(self, successor):\n",
    "        self._successor = successor # Define who is the next handler\n",
    "\n",
    "    def handle(self, request):\n",
    "            handled = self._handle(request) #If handled, stop here\n",
    "\n",
    "            #Otherwise, keep going\n",
    "            if not handled:\n",
    "                self._successor.handle(request)    \n",
    "\n",
    "    def _handle(self, request):\n",
    "        raise NotImplementedError('Must provide implementation in subclass!')\n",
    "\n",
    "class ConcreteHandler1(Handler): # Inherits from the abstract handler\n",
    "    \"\"\"Concrete handler 1\"\"\"\n",
    "    def _handle(self, request):\n",
    "        if 0 < request <= 10: # Provide a condition for handling\n",
    "            print(\"Request {} handled in handler 1\".format(request))\n",
    "            return True # Indicates that the request has been handled\n",
    "\n",
    "class DefaultHandler(Handler): # Inherits from the abstract handler\n",
    "    \"\"\"Default handler\"\"\"\n",
    "    def _handle(self, request):\n",
    "        \"\"\"If there is no handler available\"\"\"\n",
    "        #No condition checking since this is a default handler\n",
    "        print(\"End of chain, no handler for {}\".format(request))\n",
    "        return True # Indicates that the request has been handled\n",
    "\n",
    "\n",
    "handler = ConcreteHandler1(DefaultHandler(None))\n",
    "for request in [2, 5, 30]:\n",
    "    handler.handle(request)\n"
   ]
  }
 ],
 "metadata": {
  "kernelspec": {
   "display_name": "Python 3",
   "language": "python",
   "name": "python3"
  },
  "language_info": {
   "codemirror_mode": {
    "name": "ipython",
    "version": 3
   },
   "file_extension": ".py",
   "mimetype": "text/x-python",
   "name": "python",
   "nbconvert_exporter": "python",
   "pygments_lexer": "ipython3",
   "version": "3.6.5"
  }
 },
 "nbformat": 4,
 "nbformat_minor": 2
}
