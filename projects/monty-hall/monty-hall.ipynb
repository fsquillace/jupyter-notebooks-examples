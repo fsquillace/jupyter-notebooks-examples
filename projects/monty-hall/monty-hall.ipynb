{
 "cells": [
  {
   "cell_type": "code",
   "execution_count": 1,
   "metadata": {},
   "outputs": [
    {
     "data": {
      "text/plain": [
       "(0.3331069, 0.6668931)"
      ]
     },
     "execution_count": 1,
     "metadata": {},
     "output_type": "execute_result"
    }
   ],
   "source": [
    "import random\n",
    "\n",
    "def substitute(choice):\n",
    "    if choice == 'goat1':\n",
    "        return 'car'\n",
    "    if choice == 'goat2':\n",
    "        return 'car'\n",
    "    else:\n",
    "        return 'goat1'\n",
    "\n",
    "def monty_hall(trials):\n",
    "    options = ['goat1', 'car', 'goat2']\n",
    "    count_car = 0\n",
    "    count_car_with_substitution = 0\n",
    "    for t in range(trials):\n",
    "        # The shuffle slows things down. It is just to simulate\n",
    "        # the fact that the pool of options is not always the same.\n",
    "#         random.shuffle(options)\n",
    "        \n",
    "        choice = random.choice(options)\n",
    "        choice_with_substitution = substitute(choice)\n",
    "        \n",
    "        if choice == 'car':\n",
    "            count_car += 1\n",
    "        if choice_with_substitution == 'car':\n",
    "            count_car_with_substitution += 1\n",
    "            \n",
    "    return count_car/trials, count_car_with_substitution/trials\n",
    "\n",
    "monty_hall(10000000)"
   ]
  },
  {
   "cell_type": "code",
   "execution_count": null,
   "metadata": {},
   "outputs": [],
   "source": []
  }
 ],
 "metadata": {
  "kernelspec": {
   "display_name": "Python 3",
   "language": "python",
   "name": "python3"
  },
  "language_info": {
   "codemirror_mode": {
    "name": "ipython",
    "version": 3
   },
   "file_extension": ".py",
   "mimetype": "text/x-python",
   "name": "python",
   "nbconvert_exporter": "python",
   "pygments_lexer": "ipython3",
   "version": "3.6.8"
  }
 },
 "nbformat": 4,
 "nbformat_minor": 2
}
