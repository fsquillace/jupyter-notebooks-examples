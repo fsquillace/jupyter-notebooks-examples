{
 "cells": [
  {
   "cell_type": "markdown",
   "metadata": {},
   "source": [
    "# Cretional Patterns\n",
    "\n",
    "See also:\n",
    "- https://github.com/faif/python-patterns\n",
    "- https://sourcemaking.com/design_patterns/creational_patterns"
   ]
  },
  {
   "cell_type": "markdown",
   "metadata": {},
   "source": [
    "## Singleton"
   ]
  },
  {
   "cell_type": "code",
   "execution_count": 15,
   "metadata": {},
   "outputs": [
    {
     "data": {
      "text/plain": [
       "3"
      ]
     },
     "execution_count": 15,
     "metadata": {},
     "output_type": "execute_result"
    }
   ],
   "source": [
    "import sys\n",
    "sys.version_info.major\n"
   ]
  },
  {
   "cell_type": "code",
   "execution_count": 16,
   "metadata": {
    "collapsed": true
   },
   "outputs": [],
   "source": [
    "class Singleton(type):\n",
    "    _instances = {}\n",
    "    def __call__(cls, *args, **kwargs):\n",
    "        if cls not in cls._instances:\n",
    "            cls._instances[cls] = super(Singleton, cls).__call__(*args, **kwargs)\n",
    "        return cls._instances[cls]\n",
    "\n",
    "if sys.version_info.major == 2:\n",
    "    #Python2\n",
    "    class MyClass(object):\n",
    "        __metaclass__ = Singleton\n",
    "else:\n",
    "    #Python3\n",
    "    class MyClass(object, metaclass=Singleton):\n",
    "        pass"
   ]
  },
  {
   "cell_type": "code",
   "execution_count": 18,
   "metadata": {},
   "outputs": [
    {
     "data": {
      "text/plain": [
       "True"
      ]
     },
     "execution_count": 18,
     "metadata": {},
     "output_type": "execute_result"
    }
   ],
   "source": [
    "id(MyClass()) == id(MyClass(11))"
   ]
  },
  {
   "cell_type": "markdown",
   "metadata": {},
   "source": [
    "## Factory"
   ]
  },
  {
   "cell_type": "code",
   "execution_count": 26,
   "metadata": {
    "collapsed": true
   },
   "outputs": [],
   "source": [
    "class Dog:\n",
    "    \"\"\"A simple dog class\"\"\"\n",
    "    \n",
    "    def __init__(self):\n",
    "        pass\n",
    "    \n",
    "    def speak(self):\n",
    "        return \"Woof!\"\n",
    "\n",
    "class Cat:\n",
    "    \"\"\"A simple dog class\"\"\"\n",
    "\n",
    "    def __init__(self):\n",
    "        pass\n",
    "\n",
    "    def speak(self):\n",
    "        return \"Meow!\"\n",
    "\n",
    "def get_pet(pet=\"dog\"):\n",
    "    \"\"\"The factory method\"\"\"\n",
    "    pets = dict(dog=Dog(), cat=Cat())\n",
    "    return pets[pet]"
   ]
  },
  {
   "cell_type": "code",
   "execution_count": 27,
   "metadata": {},
   "outputs": [
    {
     "name": "stdout",
     "output_type": "stream",
     "text": [
      "Woof!\n",
      "Meow!\n"
     ]
    }
   ],
   "source": [
    "d = get_pet(\"dog\")\n",
    "print(d.speak())\n",
    "\n",
    "c = get_pet(\"cat\")\n",
    "print(c.speak())"
   ]
  },
  {
   "cell_type": "markdown",
   "metadata": {},
   "source": [
    "## Abstract Factory"
   ]
  },
  {
   "cell_type": "code",
   "execution_count": 30,
   "metadata": {},
   "outputs": [
    {
     "name": "stdout",
     "output_type": "stream",
     "text": [
      "Our pet is '<__main__.Dog object at 0x7efbfcc0acc0>'!\n",
      "Our pet says hello by 'Woof!'\n"
     ]
    }
   ],
   "source": [
    "class DogFactory:\n",
    "    \"\"\"Concrete Factory\"\"\"\n",
    "    \n",
    "    def get_pet(self):\n",
    "        \"\"\"Returns a Dog object\"\"\"\n",
    "        return Dog()\n",
    "\n",
    "class PetStore:\n",
    "    \"\"\" PetStore houses our Abstract Factory \"\"\"\n",
    "\n",
    "    def __init__(self, pet_factory=None):\n",
    "        \"\"\" pet_factory is our Abstract Factory \"\"\"\n",
    "        self._pet_factory = pet_factory\n",
    "\n",
    "    def show_pet(self):\n",
    "        \"\"\" Utility method to display the details of the objects retured by the DogFactory \"\"\"\n",
    "        pet = self._pet_factory.get_pet()\n",
    "\n",
    "        print(\"Our pet is '{}'!\".format(pet))\n",
    "        print(\"Our pet says hello by '{}'\".format(pet.speak()))\n",
    "\n",
    "#Create a Concrete Factory\n",
    "factory = DogFactory()\n",
    "\n",
    "#Create a pet store housing our Abstract Factory\n",
    "shop = PetStore(factory)\n",
    "\n",
    "#Invoke the utility method to show the details of our pet\n",
    "shop.show_pet()\n",
    "\n"
   ]
  },
  {
   "cell_type": "markdown",
   "metadata": {},
   "source": [
    "## Builder"
   ]
  },
  {
   "cell_type": "code",
   "execution_count": 41,
   "metadata": {
    "collapsed": true
   },
   "outputs": [],
   "source": [
    "class CarBuilder(object):\n",
    "    \"\"\"Concrete Builder --> provides parts and tools to work on the parts \"\"\"\n",
    "    def __init__(self):\n",
    "        self.car = None \n",
    "    \n",
    "    def create_new_car(self):\n",
    "        self.car = Car()\n",
    "\n",
    "    def add_model(self, model):\n",
    "        self.car.model = model\n",
    "\n",
    "    def add_tires(self, tires):\n",
    "        self.car.tires = tires\n",
    "\n",
    "    def add_engine(self, engine):\n",
    "        self.car.engine = engine\n",
    "\n",
    "class Car(object):\n",
    "    \"\"\"Product\"\"\"\n",
    "    def __init__(self):\n",
    "        self.model = None\n",
    "        self.tires = None\n",
    "        self.engine = None\n",
    "    \n",
    "    def __str__(self):\n",
    "        return '{} | {} | {}'.format(self.model, self.tires, self.engine)"
   ]
  },
  {
   "cell_type": "code",
   "execution_count": 42,
   "metadata": {},
   "outputs": [
    {
     "name": "stdout",
     "output_type": "stream",
     "text": [
      "Skylark | Regular tires | Turbo engine\n"
     ]
    }
   ],
   "source": [
    "builder = CarBuilder()\n",
    "builder.create_new_car()\n",
    "builder.add_model(\"SkyLark\")\n",
    "builder.add_tires(\"Regular tires\")\n",
    "builder.add_engine(\"Turbo engine\")\n",
    "builder.car\n",
    "\n",
    "print(car)"
   ]
  },
  {
   "cell_type": "markdown",
   "metadata": {},
   "source": [
    "## Prototype"
   ]
  },
  {
   "cell_type": "code",
   "execution_count": 52,
   "metadata": {
    "collapsed": true
   },
   "outputs": [],
   "source": [
    "import copy\n",
    "\n",
    "def clone(object_to_clone, **attr):\n",
    "    \"\"\"Clone an object and update its attributes\"\"\"\n",
    "    obj = copy.deepcopy(object_to_clone)\n",
    "    obj.__dict__.update(attr)\n",
    "    return obj\n",
    "        \n",
    "class Car:\n",
    "    def __init__(self):\n",
    "        self.name = \"Skylark\"\n",
    "        self.color = \"Red\"\n",
    "        self.options = \"Ex\"\n",
    "        \n",
    "    def __str__(self):\n",
    "        return '{}'.format(self.__dict__)"
   ]
  },
  {
   "cell_type": "code",
   "execution_count": 53,
   "metadata": {},
   "outputs": [
    {
     "name": "stdout",
     "output_type": "stream",
     "text": [
      "{'name': 'Skylark', 'color': 'Red', 'options': 'Ex', 'wheel': 'Pirelli'}\n"
     ]
    },
    {
     "data": {
      "text/plain": [
       "False"
      ]
     },
     "execution_count": 53,
     "metadata": {},
     "output_type": "execute_result"
    }
   ],
   "source": [
    "c = Car()\n",
    "c1 = clone(c, wheel='Pirelli')\n",
    "\n",
    "print(c1)\n",
    "id(c) == id(c1)"
   ]
  }
 ],
 "metadata": {
  "kernelspec": {
   "display_name": "Python 3",
   "language": "python",
   "name": "python3"
  },
  "language_info": {
   "codemirror_mode": {
    "name": "ipython",
    "version": 3
   },
   "file_extension": ".py",
   "mimetype": "text/x-python",
   "name": "python",
   "nbconvert_exporter": "python",
   "pygments_lexer": "ipython3",
   "version": "3.6.4"
  }
 },
 "nbformat": 4,
 "nbformat_minor": 2
}
