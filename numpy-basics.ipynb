{
 "cells": [
  {
   "cell_type": "code",
   "execution_count": 29,
   "metadata": {
    "collapsed": true
   },
   "outputs": [],
   "source": [
    "import numpy as np"
   ]
  },
  {
   "cell_type": "code",
   "execution_count": 30,
   "metadata": {},
   "outputs": [
    {
     "name": "stdout",
     "output_type": "stream",
     "text": [
      "[180 215 210 210 188 176 209 200] [73 88 90 65 55 67 73 91]\n"
     ]
    }
   ],
   "source": [
    "height_m = [1.80, 2.15, 2.10, 2.10, 1.88, 1.76, 2.09, 2.00]\n",
    "weight_kg = [73, 88, 90, 65, 55, 67, 73, 91]\n",
    "\n",
    "# Create a numpy array from baseball: np_baseball\n",
    "np_height_m = np.array(height_m)\n",
    "np_weight_kg = np.array(weight_kg)\n",
    "\n",
    "print(np_height, np_weight)"
   ]
  },
  {
   "cell_type": "markdown",
   "metadata": {},
   "source": [
    "# NumPy array operators\n",
    "\n",
    "You can use the usual math operators such as: `+`, `-`, `*`, `/`. Numpy will produce an new array by calculating element-wise with the given operator."
   ]
  },
  {
   "cell_type": "code",
   "execution_count": 31,
   "metadata": {},
   "outputs": [
    {
     "name": "stdout",
     "output_type": "stream",
     "text": [
      "[False  True  True  True  True False  True False]\n",
      "[ 19.03731747  20.40816327  14.73922902  15.56133997  16.71207161]\n"
     ]
    }
   ],
   "source": [
    "# Calculate the BMI: bmi\n",
    "bmi = np_weight_kg / np_height_m ** 2\n",
    "\n",
    "# Create the light array\n",
    "light = bmi < 21\n",
    "\n",
    "# Print out light\n",
    "print(light)\n",
    "\n",
    "# Print out BMIs of all baseball players whose BMI is below 21\n",
    "print(bmi[light])"
   ]
  },
  {
   "cell_type": "markdown",
   "metadata": {},
   "source": [
    "**NOTE**: numpy arrays cannot contain elements with different types. If you try to build such a list, some of the elements' types are changed to end up with a homogeneous list. This is known as *type coercion*.\n",
    "Second, the typical arithmetic operators, such as +, -, * and / have a different meaning for regular Python lists and numpy arrays."
   ]
  },
  {
   "cell_type": "markdown",
   "metadata": {},
   "source": [
    "# Subsetting NumPy arrays"
   ]
  },
  {
   "cell_type": "code",
   "execution_count": 32,
   "metadata": {},
   "outputs": [
    {
     "name": "stdout",
     "output_type": "stream",
     "text": [
      "55\n",
      "[ 2.15  2.1   2.1 ]\n"
     ]
    }
   ],
   "source": [
    "# Print out the weight for 5th player\n",
    "print(np_weight_kg[4])\n",
    "\n",
    "# Print out sub-array of np_height from 2nd to 5th players\n",
    "print(np_height_m[1:4])"
   ]
  },
  {
   "cell_type": "markdown",
   "metadata": {},
   "source": [
    "# 2D NumPy arrays"
   ]
  },
  {
   "cell_type": "code",
   "execution_count": 33,
   "metadata": {},
   "outputs": [
    {
     "name": "stdout",
     "output_type": "stream",
     "text": [
      "(8, 2)\n"
     ]
    }
   ],
   "source": [
    "players = [np_height_m, np_weight_kg]\n",
    "\n",
    "# Create a 2D numpy array\n",
    "np_players = np.transpose(np.array(players))\n",
    "\n",
    "# Print out the shape\n",
    "print(np_players.shape)"
   ]
  },
  {
   "cell_type": "markdown",
   "metadata": {},
   "source": [
    "# Subsetting 2D NumPy arrays"
   ]
  },
  {
   "cell_type": "code",
   "execution_count": 34,
   "metadata": {},
   "outputs": [
    {
     "name": "stdout",
     "output_type": "stream",
     "text": [
      "[  1.88  55.  ]\n",
      "[ 73.  88.  90.  65.  55.  67.  73.  91.]\n",
      "2.15\n"
     ]
    }
   ],
   "source": [
    "# Print out the 5th player\n",
    "print(np_players[4, :])\n",
    "\n",
    "# Select the entire second column (weight)\n",
    "print(np_players[:, 1])\n",
    "\n",
    "# Print out height of 2th player\n",
    "print(np_players[1, 0])"
   ]
  },
  {
   "cell_type": "markdown",
   "metadata": {},
   "source": [
    "# Basic statistics"
   ]
  },
  {
   "cell_type": "code",
   "execution_count": 35,
   "metadata": {},
   "outputs": [
    {
     "name": "stdout",
     "output_type": "stream",
     "text": [
      "1.985\n",
      "2.045\n",
      "0.141774468788\n",
      "[[ 1.          0.50089576]\n",
      " [ 0.50089576  1.        ]]\n"
     ]
    }
   ],
   "source": [
    "# Print out the mean of height\n",
    "print(np.mean(np_players[:, 0]))\n",
    "\n",
    "# Print out the median of height\n",
    "print(np.median(np_players[:, 0]))\n",
    "\n",
    "# Print out the stdev of height\n",
    "print(np.std(np_players[:, 0]))\n",
    "\n",
    "# Print out the correlation between height and weight\n",
    "print(np.corrcoef(np_players[:, 0], np_players[:, 1]))"
   ]
  }
 ],
 "metadata": {
  "kernelspec": {
   "display_name": "Python 3",
   "language": "python",
   "name": "python3"
  },
  "language_info": {
   "codemirror_mode": {
    "name": "ipython",
    "version": 3
   },
   "file_extension": ".py",
   "mimetype": "text/x-python",
   "name": "python",
   "nbconvert_exporter": "python",
   "pygments_lexer": "ipython3",
   "version": "3.6.3"
  }
 },
 "nbformat": 4,
 "nbformat_minor": 2
}
