{
 "cells": [
  {
   "cell_type": "code",
   "execution_count": 1,
   "metadata": {
    "collapsed": true
   },
   "outputs": [],
   "source": [
    "import pandas as pd\n",
    "import numpy as np\n",
    "from IPython.display import display as d"
   ]
  },
  {
   "cell_type": "markdown",
   "metadata": {},
   "source": [
    "## Series and DataFrame creation"
   ]
  },
  {
   "cell_type": "code",
   "execution_count": 2,
   "metadata": {},
   "outputs": [
    {
     "name": "stdout",
     "output_type": "stream",
     "text": [
      "Series with axis labels:\n"
     ]
    },
    {
     "data": {
      "text/plain": [
       "0    0\n",
       "1    1\n",
       "2    2\n",
       "3    3\n",
       "4    4\n",
       "dtype: int64"
      ]
     },
     "metadata": {},
     "output_type": "display_data"
    },
    {
     "name": "stdout",
     "output_type": "stream",
     "text": [
      "Series from dictionary:\n"
     ]
    },
    {
     "data": {
      "text/plain": [
       "0    A\n",
       "1    B\n",
       "2    C\n",
       "dtype: object"
      ]
     },
     "metadata": {},
     "output_type": "display_data"
    },
    {
     "name": "stdout",
     "output_type": "stream",
     "text": [
      "Basic dataframe with indexes and column names:\n"
     ]
    },
    {
     "data": {
      "text/html": [
       "<div>\n",
       "<style>\n",
       "    .dataframe thead tr:only-child th {\n",
       "        text-align: right;\n",
       "    }\n",
       "\n",
       "    .dataframe thead th {\n",
       "        text-align: left;\n",
       "    }\n",
       "\n",
       "    .dataframe tbody tr th {\n",
       "        vertical-align: top;\n",
       "    }\n",
       "</style>\n",
       "<table border=\"1\" class=\"dataframe\">\n",
       "  <thead>\n",
       "    <tr style=\"text-align: right;\">\n",
       "      <th></th>\n",
       "      <th>Column1</th>\n",
       "      <th>Column2</th>\n",
       "      <th>Column3</th>\n",
       "    </tr>\n",
       "  </thead>\n",
       "  <tbody>\n",
       "    <tr>\n",
       "      <th>2018-01-01</th>\n",
       "      <td>0.865842</td>\n",
       "      <td>0.207336</td>\n",
       "      <td>0.287298</td>\n",
       "    </tr>\n",
       "    <tr>\n",
       "      <th>2018-01-02</th>\n",
       "      <td>0.910107</td>\n",
       "      <td>0.857314</td>\n",
       "      <td>0.224263</td>\n",
       "    </tr>\n",
       "    <tr>\n",
       "      <th>2018-01-03</th>\n",
       "      <td>0.497532</td>\n",
       "      <td>0.453515</td>\n",
       "      <td>0.985448</td>\n",
       "    </tr>\n",
       "    <tr>\n",
       "      <th>2018-01-04</th>\n",
       "      <td>0.433764</td>\n",
       "      <td>0.600994</td>\n",
       "      <td>0.319250</td>\n",
       "    </tr>\n",
       "    <tr>\n",
       "      <th>2018-01-05</th>\n",
       "      <td>0.779757</td>\n",
       "      <td>0.935117</td>\n",
       "      <td>0.238559</td>\n",
       "    </tr>\n",
       "    <tr>\n",
       "      <th>2018-01-06</th>\n",
       "      <td>0.867593</td>\n",
       "      <td>0.023837</td>\n",
       "      <td>0.579003</td>\n",
       "    </tr>\n",
       "  </tbody>\n",
       "</table>\n",
       "</div>"
      ],
      "text/plain": [
       "             Column1   Column2   Column3\n",
       "2018-01-01  0.865842  0.207336  0.287298\n",
       "2018-01-02  0.910107  0.857314  0.224263\n",
       "2018-01-03  0.497532  0.453515  0.985448\n",
       "2018-01-04  0.433764  0.600994  0.319250\n",
       "2018-01-05  0.779757  0.935117  0.238559\n",
       "2018-01-06  0.867593  0.023837  0.579003"
      ]
     },
     "metadata": {},
     "output_type": "display_data"
    },
    {
     "name": "stdout",
     "output_type": "stream",
     "text": [
      "DataFrame from dictionary:\n"
     ]
    },
    {
     "data": {
      "text/html": [
       "<div>\n",
       "<style>\n",
       "    .dataframe thead tr:only-child th {\n",
       "        text-align: right;\n",
       "    }\n",
       "\n",
       "    .dataframe thead th {\n",
       "        text-align: left;\n",
       "    }\n",
       "\n",
       "    .dataframe tbody tr th {\n",
       "        vertical-align: top;\n",
       "    }\n",
       "</style>\n",
       "<table border=\"1\" class=\"dataframe\">\n",
       "  <thead>\n",
       "    <tr style=\"text-align: right;\">\n",
       "      <th></th>\n",
       "      <th>Normal</th>\n",
       "      <th>Reverse</th>\n",
       "    </tr>\n",
       "  </thead>\n",
       "  <tbody>\n",
       "    <tr>\n",
       "      <th>0</th>\n",
       "      <td>A</td>\n",
       "      <td>Z</td>\n",
       "    </tr>\n",
       "    <tr>\n",
       "      <th>1</th>\n",
       "      <td>B</td>\n",
       "      <td>Y</td>\n",
       "    </tr>\n",
       "    <tr>\n",
       "      <th>2</th>\n",
       "      <td>C</td>\n",
       "      <td>X</td>\n",
       "    </tr>\n",
       "  </tbody>\n",
       "</table>\n",
       "</div>"
      ],
      "text/plain": [
       "  Normal Reverse\n",
       "0      A       Z\n",
       "1      B       Y\n",
       "2      C       X"
      ]
     },
     "metadata": {},
     "output_type": "display_data"
    },
    {
     "name": "stdout",
     "output_type": "stream",
     "text": [
      "DataFrame from list of dictionary:\n"
     ]
    },
    {
     "data": {
      "text/html": [
       "<div>\n",
       "<style>\n",
       "    .dataframe thead tr:only-child th {\n",
       "        text-align: right;\n",
       "    }\n",
       "\n",
       "    .dataframe thead th {\n",
       "        text-align: left;\n",
       "    }\n",
       "\n",
       "    .dataframe tbody tr th {\n",
       "        vertical-align: top;\n",
       "    }\n",
       "</style>\n",
       "<table border=\"1\" class=\"dataframe\">\n",
       "  <thead>\n",
       "    <tr style=\"text-align: right;\">\n",
       "      <th></th>\n",
       "      <th>Normal</th>\n",
       "      <th>Reverse</th>\n",
       "    </tr>\n",
       "  </thead>\n",
       "  <tbody>\n",
       "    <tr>\n",
       "      <th>0</th>\n",
       "      <td>A</td>\n",
       "      <td>Z</td>\n",
       "    </tr>\n",
       "    <tr>\n",
       "      <th>1</th>\n",
       "      <td>B</td>\n",
       "      <td>Y</td>\n",
       "    </tr>\n",
       "    <tr>\n",
       "      <th>2</th>\n",
       "      <td>C</td>\n",
       "      <td>X</td>\n",
       "    </tr>\n",
       "  </tbody>\n",
       "</table>\n",
       "</div>"
      ],
      "text/plain": [
       "  Normal Reverse\n",
       "0      A       Z\n",
       "1      B       Y\n",
       "2      C       X"
      ]
     },
     "metadata": {},
     "output_type": "display_data"
    }
   ],
   "source": [
    "print('Series with axis labels:')\n",
    "d(pd.Series(np.arange(5, dtype=np.int)))\n",
    "\n",
    "print('Series from dictionary:')\n",
    "future_series = {0: 'A', 1: 'B', 2: 'C'}\n",
    "d(pd.Series(future_series))\n",
    "\n",
    "print('Basic dataframe with indexes and column names:')\n",
    "dates = pd.date_range(\"20180101\", periods=6)\n",
    "data = np.random.random((6,3))\n",
    "column_names = ['Column1', 'Column2', 'Column3']\n",
    "main_df = pd.DataFrame(data, index=dates, columns=column_names)\n",
    "d(main_df)\n",
    "\n",
    "print('DataFrame from dictionary:')\n",
    "basic_dict = {'Normal': ['A', 'B', 'C'], 'Reverse': ['Z', 'Y', 'X']}\n",
    "d(pd.DataFrame(basic_dict))\n",
    "\n",
    "print('DataFrame from list of dictionary:')\n",
    "basic_dict = [\n",
    "    {'Normal': 'A', 'Reverse': 'Z'},\n",
    "    {'Normal': 'B', 'Reverse': 'Y'},\n",
    "    {'Normal': 'C', 'Reverse': 'X'},\n",
    "]\n",
    "d(pd.DataFrame(basic_dict))"
   ]
  },
  {
   "cell_type": "markdown",
   "metadata": {},
   "source": [
    "## Indexing"
   ]
  },
  {
   "cell_type": "code",
   "execution_count": 3,
   "metadata": {},
   "outputs": [
    {
     "name": "stdout",
     "output_type": "stream",
     "text": [
      "Index first column:\n"
     ]
    },
    {
     "data": {
      "text/plain": [
       "2018-01-01    0.865842\n",
       "2018-01-02    0.910107\n",
       "2018-01-03    0.497532\n",
       "2018-01-04    0.433764\n",
       "2018-01-05    0.779757\n",
       "2018-01-06    0.867593\n",
       "Freq: D, Name: Column1, dtype: float64"
      ]
     },
     "metadata": {},
     "output_type": "display_data"
    },
    {
     "name": "stdout",
     "output_type": "stream",
     "text": [
      "Index the first two rows:\n"
     ]
    },
    {
     "data": {
      "text/html": [
       "<div>\n",
       "<style>\n",
       "    .dataframe thead tr:only-child th {\n",
       "        text-align: right;\n",
       "    }\n",
       "\n",
       "    .dataframe thead th {\n",
       "        text-align: left;\n",
       "    }\n",
       "\n",
       "    .dataframe tbody tr th {\n",
       "        vertical-align: top;\n",
       "    }\n",
       "</style>\n",
       "<table border=\"1\" class=\"dataframe\">\n",
       "  <thead>\n",
       "    <tr style=\"text-align: right;\">\n",
       "      <th></th>\n",
       "      <th>Column1</th>\n",
       "      <th>Column2</th>\n",
       "      <th>Column3</th>\n",
       "    </tr>\n",
       "  </thead>\n",
       "  <tbody>\n",
       "    <tr>\n",
       "      <th>2018-01-01</th>\n",
       "      <td>0.865842</td>\n",
       "      <td>0.207336</td>\n",
       "      <td>0.287298</td>\n",
       "    </tr>\n",
       "    <tr>\n",
       "      <th>2018-01-02</th>\n",
       "      <td>0.910107</td>\n",
       "      <td>0.857314</td>\n",
       "      <td>0.224263</td>\n",
       "    </tr>\n",
       "  </tbody>\n",
       "</table>\n",
       "</div>"
      ],
      "text/plain": [
       "             Column1   Column2   Column3\n",
       "2018-01-01  0.865842  0.207336  0.287298\n",
       "2018-01-02  0.910107  0.857314  0.224263"
      ]
     },
     "metadata": {},
     "output_type": "display_data"
    },
    {
     "name": "stdout",
     "output_type": "stream",
     "text": [
      "Index the rows by name:\n"
     ]
    },
    {
     "data": {
      "text/html": [
       "<div>\n",
       "<style>\n",
       "    .dataframe thead tr:only-child th {\n",
       "        text-align: right;\n",
       "    }\n",
       "\n",
       "    .dataframe thead th {\n",
       "        text-align: left;\n",
       "    }\n",
       "\n",
       "    .dataframe tbody tr th {\n",
       "        vertical-align: top;\n",
       "    }\n",
       "</style>\n",
       "<table border=\"1\" class=\"dataframe\">\n",
       "  <thead>\n",
       "    <tr style=\"text-align: right;\">\n",
       "      <th></th>\n",
       "      <th>Column1</th>\n",
       "      <th>Column2</th>\n",
       "      <th>Column3</th>\n",
       "    </tr>\n",
       "  </thead>\n",
       "  <tbody>\n",
       "    <tr>\n",
       "      <th>2018-01-01</th>\n",
       "      <td>0.865842</td>\n",
       "      <td>0.207336</td>\n",
       "      <td>0.287298</td>\n",
       "    </tr>\n",
       "    <tr>\n",
       "      <th>2018-01-02</th>\n",
       "      <td>0.910107</td>\n",
       "      <td>0.857314</td>\n",
       "      <td>0.224263</td>\n",
       "    </tr>\n",
       "    <tr>\n",
       "      <th>2018-01-03</th>\n",
       "      <td>0.497532</td>\n",
       "      <td>0.453515</td>\n",
       "      <td>0.985448</td>\n",
       "    </tr>\n",
       "    <tr>\n",
       "      <th>2018-01-04</th>\n",
       "      <td>0.433764</td>\n",
       "      <td>0.600994</td>\n",
       "      <td>0.319250</td>\n",
       "    </tr>\n",
       "  </tbody>\n",
       "</table>\n",
       "</div>"
      ],
      "text/plain": [
       "             Column1   Column2   Column3\n",
       "2018-01-01  0.865842  0.207336  0.287298\n",
       "2018-01-02  0.910107  0.857314  0.224263\n",
       "2018-01-03  0.497532  0.453515  0.985448\n",
       "2018-01-04  0.433764  0.600994  0.319250"
      ]
     },
     "metadata": {},
     "output_type": "display_data"
    },
    {
     "name": "stdout",
     "output_type": "stream",
     "text": [
      "Index rows and columns by names:\n",
      "Index rows and columns by numbers:\n"
     ]
    },
    {
     "data": {
      "text/html": [
       "<div>\n",
       "<style>\n",
       "    .dataframe thead tr:only-child th {\n",
       "        text-align: right;\n",
       "    }\n",
       "\n",
       "    .dataframe thead th {\n",
       "        text-align: left;\n",
       "    }\n",
       "\n",
       "    .dataframe tbody tr th {\n",
       "        vertical-align: top;\n",
       "    }\n",
       "</style>\n",
       "<table border=\"1\" class=\"dataframe\">\n",
       "  <thead>\n",
       "    <tr style=\"text-align: right;\">\n",
       "      <th></th>\n",
       "      <th>Column1</th>\n",
       "      <th>Column2</th>\n",
       "    </tr>\n",
       "  </thead>\n",
       "  <tbody>\n",
       "    <tr>\n",
       "      <th>2018-01-04</th>\n",
       "      <td>0.433764</td>\n",
       "      <td>0.600994</td>\n",
       "    </tr>\n",
       "    <tr>\n",
       "      <th>2018-01-05</th>\n",
       "      <td>0.779757</td>\n",
       "      <td>0.935117</td>\n",
       "    </tr>\n",
       "  </tbody>\n",
       "</table>\n",
       "</div>"
      ],
      "text/plain": [
       "             Column1   Column2\n",
       "2018-01-04  0.433764  0.600994\n",
       "2018-01-05  0.779757  0.935117"
      ]
     },
     "metadata": {},
     "output_type": "display_data"
    },
    {
     "name": "stdout",
     "output_type": "stream",
     "text": [
      "View first two rows:\n"
     ]
    },
    {
     "data": {
      "text/html": [
       "<div>\n",
       "<style>\n",
       "    .dataframe thead tr:only-child th {\n",
       "        text-align: right;\n",
       "    }\n",
       "\n",
       "    .dataframe thead th {\n",
       "        text-align: left;\n",
       "    }\n",
       "\n",
       "    .dataframe tbody tr th {\n",
       "        vertical-align: top;\n",
       "    }\n",
       "</style>\n",
       "<table border=\"1\" class=\"dataframe\">\n",
       "  <thead>\n",
       "    <tr style=\"text-align: right;\">\n",
       "      <th></th>\n",
       "      <th>Column1</th>\n",
       "      <th>Column2</th>\n",
       "      <th>Column3</th>\n",
       "    </tr>\n",
       "  </thead>\n",
       "  <tbody>\n",
       "    <tr>\n",
       "      <th>2018-01-01</th>\n",
       "      <td>0.865842</td>\n",
       "      <td>0.207336</td>\n",
       "      <td>0.287298</td>\n",
       "    </tr>\n",
       "    <tr>\n",
       "      <th>2018-01-02</th>\n",
       "      <td>0.910107</td>\n",
       "      <td>0.857314</td>\n",
       "      <td>0.224263</td>\n",
       "    </tr>\n",
       "  </tbody>\n",
       "</table>\n",
       "</div>"
      ],
      "text/plain": [
       "             Column1   Column2   Column3\n",
       "2018-01-01  0.865842  0.207336  0.287298\n",
       "2018-01-02  0.910107  0.857314  0.224263"
      ]
     },
     "metadata": {},
     "output_type": "display_data"
    },
    {
     "name": "stdout",
     "output_type": "stream",
     "text": [
      "View last two rows:\n"
     ]
    },
    {
     "data": {
      "text/html": [
       "<div>\n",
       "<style>\n",
       "    .dataframe thead tr:only-child th {\n",
       "        text-align: right;\n",
       "    }\n",
       "\n",
       "    .dataframe thead th {\n",
       "        text-align: left;\n",
       "    }\n",
       "\n",
       "    .dataframe tbody tr th {\n",
       "        vertical-align: top;\n",
       "    }\n",
       "</style>\n",
       "<table border=\"1\" class=\"dataframe\">\n",
       "  <thead>\n",
       "    <tr style=\"text-align: right;\">\n",
       "      <th></th>\n",
       "      <th>Column1</th>\n",
       "      <th>Column2</th>\n",
       "      <th>Column3</th>\n",
       "    </tr>\n",
       "  </thead>\n",
       "  <tbody>\n",
       "    <tr>\n",
       "      <th>2018-01-05</th>\n",
       "      <td>0.779757</td>\n",
       "      <td>0.935117</td>\n",
       "      <td>0.238559</td>\n",
       "    </tr>\n",
       "    <tr>\n",
       "      <th>2018-01-06</th>\n",
       "      <td>0.867593</td>\n",
       "      <td>0.023837</td>\n",
       "      <td>0.579003</td>\n",
       "    </tr>\n",
       "  </tbody>\n",
       "</table>\n",
       "</div>"
      ],
      "text/plain": [
       "             Column1   Column2   Column3\n",
       "2018-01-05  0.779757  0.935117  0.238559\n",
       "2018-01-06  0.867593  0.023837  0.579003"
      ]
     },
     "metadata": {},
     "output_type": "display_data"
    }
   ],
   "source": [
    "print('Index first column:')\n",
    "d(main_df['Column1'])\n",
    "\n",
    "print('Index the first two rows:')\n",
    "d(main_df[0:2])\n",
    "\n",
    "print('Index the rows by name:')\n",
    "d(main_df['20180101':'20180104'])\n",
    "\n",
    "print('Index rows and columns by names:')\n",
    "main_df.loc['20180101':'20180103',['Column1','Column3']]\n",
    "\n",
    "print('Index rows and columns by numbers:')\n",
    "d(main_df.iloc[3:5, 0:2])\n",
    "\n",
    "print('View first two rows:')\n",
    "d(main_df.head(2))\n",
    "\n",
    "print('View last two rows:')\n",
    "d(main_df.tail(2))"
   ]
  },
  {
   "cell_type": "markdown",
   "metadata": {},
   "source": [
    "## Add new Series to existing DataFrame"
   ]
  },
  {
   "cell_type": "code",
   "execution_count": 4,
   "metadata": {},
   "outputs": [
    {
     "name": "stdout",
     "output_type": "stream",
     "text": [
      "Add a new column\n"
     ]
    },
    {
     "data": {
      "text/html": [
       "<div>\n",
       "<style>\n",
       "    .dataframe thead tr:only-child th {\n",
       "        text-align: right;\n",
       "    }\n",
       "\n",
       "    .dataframe thead th {\n",
       "        text-align: left;\n",
       "    }\n",
       "\n",
       "    .dataframe tbody tr th {\n",
       "        vertical-align: top;\n",
       "    }\n",
       "</style>\n",
       "<table border=\"1\" class=\"dataframe\">\n",
       "  <thead>\n",
       "    <tr style=\"text-align: right;\">\n",
       "      <th></th>\n",
       "      <th>Column1</th>\n",
       "      <th>Column2</th>\n",
       "      <th>Column3</th>\n",
       "      <th>Result</th>\n",
       "    </tr>\n",
       "  </thead>\n",
       "  <tbody>\n",
       "    <tr>\n",
       "      <th>2018-01-01</th>\n",
       "      <td>0.865842</td>\n",
       "      <td>0.207336</td>\n",
       "      <td>0.287298</td>\n",
       "      <td>True</td>\n",
       "    </tr>\n",
       "    <tr>\n",
       "      <th>2018-01-02</th>\n",
       "      <td>0.910107</td>\n",
       "      <td>0.857314</td>\n",
       "      <td>0.224263</td>\n",
       "      <td>False</td>\n",
       "    </tr>\n",
       "    <tr>\n",
       "      <th>2018-01-03</th>\n",
       "      <td>0.497532</td>\n",
       "      <td>0.453515</td>\n",
       "      <td>0.985448</td>\n",
       "      <td>False</td>\n",
       "    </tr>\n",
       "    <tr>\n",
       "      <th>2018-01-04</th>\n",
       "      <td>0.433764</td>\n",
       "      <td>0.600994</td>\n",
       "      <td>0.319250</td>\n",
       "      <td>True</td>\n",
       "    </tr>\n",
       "    <tr>\n",
       "      <th>2018-01-05</th>\n",
       "      <td>0.779757</td>\n",
       "      <td>0.935117</td>\n",
       "      <td>0.238559</td>\n",
       "      <td>False</td>\n",
       "    </tr>\n",
       "    <tr>\n",
       "      <th>2018-01-06</th>\n",
       "      <td>0.867593</td>\n",
       "      <td>0.023837</td>\n",
       "      <td>0.579003</td>\n",
       "      <td>False</td>\n",
       "    </tr>\n",
       "  </tbody>\n",
       "</table>\n",
       "</div>"
      ],
      "text/plain": [
       "             Column1   Column2   Column3  Result\n",
       "2018-01-01  0.865842  0.207336  0.287298    True\n",
       "2018-01-02  0.910107  0.857314  0.224263   False\n",
       "2018-01-03  0.497532  0.453515  0.985448   False\n",
       "2018-01-04  0.433764  0.600994  0.319250    True\n",
       "2018-01-05  0.779757  0.935117  0.238559   False\n",
       "2018-01-06  0.867593  0.023837  0.579003   False"
      ]
     },
     "metadata": {},
     "output_type": "display_data"
    }
   ],
   "source": [
    "print('Add a new column')\n",
    "main_df['Result'] = pd.Series([True, False, False, True, False, False], index=dates)\n",
    "d(main_df)"
   ]
  },
  {
   "cell_type": "markdown",
   "metadata": {},
   "source": [
    "## Statistics"
   ]
  },
  {
   "cell_type": "code",
   "execution_count": 5,
   "metadata": {},
   "outputs": [
    {
     "data": {
      "text/html": [
       "<div>\n",
       "<style>\n",
       "    .dataframe thead tr:only-child th {\n",
       "        text-align: right;\n",
       "    }\n",
       "\n",
       "    .dataframe thead th {\n",
       "        text-align: left;\n",
       "    }\n",
       "\n",
       "    .dataframe tbody tr th {\n",
       "        vertical-align: top;\n",
       "    }\n",
       "</style>\n",
       "<table border=\"1\" class=\"dataframe\">\n",
       "  <thead>\n",
       "    <tr style=\"text-align: right;\">\n",
       "      <th></th>\n",
       "      <th>Column1</th>\n",
       "      <th>Column2</th>\n",
       "      <th>Column3</th>\n",
       "    </tr>\n",
       "  </thead>\n",
       "  <tbody>\n",
       "    <tr>\n",
       "      <th>count</th>\n",
       "      <td>6.000000</td>\n",
       "      <td>6.000000</td>\n",
       "      <td>6.000000</td>\n",
       "    </tr>\n",
       "    <tr>\n",
       "      <th>mean</th>\n",
       "      <td>0.725766</td>\n",
       "      <td>0.513019</td>\n",
       "      <td>0.438970</td>\n",
       "    </tr>\n",
       "    <tr>\n",
       "      <th>std</th>\n",
       "      <td>0.206876</td>\n",
       "      <td>0.357974</td>\n",
       "      <td>0.297270</td>\n",
       "    </tr>\n",
       "    <tr>\n",
       "      <th>min</th>\n",
       "      <td>0.433764</td>\n",
       "      <td>0.023837</td>\n",
       "      <td>0.224263</td>\n",
       "    </tr>\n",
       "    <tr>\n",
       "      <th>25%</th>\n",
       "      <td>0.568088</td>\n",
       "      <td>0.268881</td>\n",
       "      <td>0.250744</td>\n",
       "    </tr>\n",
       "    <tr>\n",
       "      <th>50%</th>\n",
       "      <td>0.822799</td>\n",
       "      <td>0.527254</td>\n",
       "      <td>0.303274</td>\n",
       "    </tr>\n",
       "    <tr>\n",
       "      <th>75%</th>\n",
       "      <td>0.867155</td>\n",
       "      <td>0.793234</td>\n",
       "      <td>0.514065</td>\n",
       "    </tr>\n",
       "    <tr>\n",
       "      <th>max</th>\n",
       "      <td>0.910107</td>\n",
       "      <td>0.935117</td>\n",
       "      <td>0.985448</td>\n",
       "    </tr>\n",
       "  </tbody>\n",
       "</table>\n",
       "</div>"
      ],
      "text/plain": [
       "        Column1   Column2   Column3\n",
       "count  6.000000  6.000000  6.000000\n",
       "mean   0.725766  0.513019  0.438970\n",
       "std    0.206876  0.357974  0.297270\n",
       "min    0.433764  0.023837  0.224263\n",
       "25%    0.568088  0.268881  0.250744\n",
       "50%    0.822799  0.527254  0.303274\n",
       "75%    0.867155  0.793234  0.514065\n",
       "max    0.910107  0.935117  0.985448"
      ]
     },
     "execution_count": 5,
     "metadata": {},
     "output_type": "execute_result"
    }
   ],
   "source": [
    "main_df.describe()"
   ]
  },
  {
   "cell_type": "markdown",
   "metadata": {},
   "source": [
    "## Sorting"
   ]
  },
  {
   "cell_type": "code",
   "execution_count": 6,
   "metadata": {},
   "outputs": [
    {
     "name": "stdout",
     "output_type": "stream",
     "text": [
      "Sort using the index:\n"
     ]
    },
    {
     "data": {
      "text/html": [
       "<div>\n",
       "<style>\n",
       "    .dataframe thead tr:only-child th {\n",
       "        text-align: right;\n",
       "    }\n",
       "\n",
       "    .dataframe thead th {\n",
       "        text-align: left;\n",
       "    }\n",
       "\n",
       "    .dataframe tbody tr th {\n",
       "        vertical-align: top;\n",
       "    }\n",
       "</style>\n",
       "<table border=\"1\" class=\"dataframe\">\n",
       "  <thead>\n",
       "    <tr style=\"text-align: right;\">\n",
       "      <th></th>\n",
       "      <th>Column1</th>\n",
       "      <th>Column2</th>\n",
       "      <th>Column3</th>\n",
       "      <th>Result</th>\n",
       "    </tr>\n",
       "  </thead>\n",
       "  <tbody>\n",
       "    <tr>\n",
       "      <th>2018-01-06</th>\n",
       "      <td>0.867593</td>\n",
       "      <td>0.023837</td>\n",
       "      <td>0.579003</td>\n",
       "      <td>False</td>\n",
       "    </tr>\n",
       "    <tr>\n",
       "      <th>2018-01-05</th>\n",
       "      <td>0.779757</td>\n",
       "      <td>0.935117</td>\n",
       "      <td>0.238559</td>\n",
       "      <td>False</td>\n",
       "    </tr>\n",
       "    <tr>\n",
       "      <th>2018-01-04</th>\n",
       "      <td>0.433764</td>\n",
       "      <td>0.600994</td>\n",
       "      <td>0.319250</td>\n",
       "      <td>True</td>\n",
       "    </tr>\n",
       "    <tr>\n",
       "      <th>2018-01-03</th>\n",
       "      <td>0.497532</td>\n",
       "      <td>0.453515</td>\n",
       "      <td>0.985448</td>\n",
       "      <td>False</td>\n",
       "    </tr>\n",
       "    <tr>\n",
       "      <th>2018-01-02</th>\n",
       "      <td>0.910107</td>\n",
       "      <td>0.857314</td>\n",
       "      <td>0.224263</td>\n",
       "      <td>False</td>\n",
       "    </tr>\n",
       "    <tr>\n",
       "      <th>2018-01-01</th>\n",
       "      <td>0.865842</td>\n",
       "      <td>0.207336</td>\n",
       "      <td>0.287298</td>\n",
       "      <td>True</td>\n",
       "    </tr>\n",
       "  </tbody>\n",
       "</table>\n",
       "</div>"
      ],
      "text/plain": [
       "             Column1   Column2   Column3  Result\n",
       "2018-01-06  0.867593  0.023837  0.579003   False\n",
       "2018-01-05  0.779757  0.935117  0.238559   False\n",
       "2018-01-04  0.433764  0.600994  0.319250    True\n",
       "2018-01-03  0.497532  0.453515  0.985448   False\n",
       "2018-01-02  0.910107  0.857314  0.224263   False\n",
       "2018-01-01  0.865842  0.207336  0.287298    True"
      ]
     },
     "metadata": {},
     "output_type": "display_data"
    },
    {
     "name": "stdout",
     "output_type": "stream",
     "text": [
      "Sort on a column:\n"
     ]
    },
    {
     "data": {
      "text/html": [
       "<div>\n",
       "<style>\n",
       "    .dataframe thead tr:only-child th {\n",
       "        text-align: right;\n",
       "    }\n",
       "\n",
       "    .dataframe thead th {\n",
       "        text-align: left;\n",
       "    }\n",
       "\n",
       "    .dataframe tbody tr th {\n",
       "        vertical-align: top;\n",
       "    }\n",
       "</style>\n",
       "<table border=\"1\" class=\"dataframe\">\n",
       "  <thead>\n",
       "    <tr style=\"text-align: right;\">\n",
       "      <th></th>\n",
       "      <th>Column1</th>\n",
       "      <th>Column2</th>\n",
       "      <th>Column3</th>\n",
       "      <th>Result</th>\n",
       "    </tr>\n",
       "  </thead>\n",
       "  <tbody>\n",
       "    <tr>\n",
       "      <th>2018-01-06</th>\n",
       "      <td>0.867593</td>\n",
       "      <td>0.023837</td>\n",
       "      <td>0.579003</td>\n",
       "      <td>False</td>\n",
       "    </tr>\n",
       "    <tr>\n",
       "      <th>2018-01-01</th>\n",
       "      <td>0.865842</td>\n",
       "      <td>0.207336</td>\n",
       "      <td>0.287298</td>\n",
       "      <td>True</td>\n",
       "    </tr>\n",
       "    <tr>\n",
       "      <th>2018-01-03</th>\n",
       "      <td>0.497532</td>\n",
       "      <td>0.453515</td>\n",
       "      <td>0.985448</td>\n",
       "      <td>False</td>\n",
       "    </tr>\n",
       "    <tr>\n",
       "      <th>2018-01-04</th>\n",
       "      <td>0.433764</td>\n",
       "      <td>0.600994</td>\n",
       "      <td>0.319250</td>\n",
       "      <td>True</td>\n",
       "    </tr>\n",
       "    <tr>\n",
       "      <th>2018-01-02</th>\n",
       "      <td>0.910107</td>\n",
       "      <td>0.857314</td>\n",
       "      <td>0.224263</td>\n",
       "      <td>False</td>\n",
       "    </tr>\n",
       "    <tr>\n",
       "      <th>2018-01-05</th>\n",
       "      <td>0.779757</td>\n",
       "      <td>0.935117</td>\n",
       "      <td>0.238559</td>\n",
       "      <td>False</td>\n",
       "    </tr>\n",
       "  </tbody>\n",
       "</table>\n",
       "</div>"
      ],
      "text/plain": [
       "             Column1   Column2   Column3  Result\n",
       "2018-01-06  0.867593  0.023837  0.579003   False\n",
       "2018-01-01  0.865842  0.207336  0.287298    True\n",
       "2018-01-03  0.497532  0.453515  0.985448   False\n",
       "2018-01-04  0.433764  0.600994  0.319250    True\n",
       "2018-01-02  0.910107  0.857314  0.224263   False\n",
       "2018-01-05  0.779757  0.935117  0.238559   False"
      ]
     },
     "metadata": {},
     "output_type": "display_data"
    }
   ],
   "source": [
    "print('Sort using the index:')\n",
    "d(main_df.sort_index(axis=0, ascending=False))\n",
    "\n",
    "print('Sort on a column:')\n",
    "d(main_df.sort_values(by='Column2'))\n"
   ]
  },
  {
   "cell_type": "markdown",
   "metadata": {},
   "source": [
    "## Join\n",
    "\n",
    "If you want to join on a column other than the index, check out the `merge` method."
   ]
  },
  {
   "cell_type": "code",
   "execution_count": 7,
   "metadata": {},
   "outputs": [
    {
     "name": "stdout",
     "output_type": "stream",
     "text": [
      "Join two DataFrames:\n"
     ]
    },
    {
     "data": {
      "text/html": [
       "<div>\n",
       "<style>\n",
       "    .dataframe thead tr:only-child th {\n",
       "        text-align: right;\n",
       "    }\n",
       "\n",
       "    .dataframe thead th {\n",
       "        text-align: left;\n",
       "    }\n",
       "\n",
       "    .dataframe tbody tr th {\n",
       "        vertical-align: top;\n",
       "    }\n",
       "</style>\n",
       "<table border=\"1\" class=\"dataframe\">\n",
       "  <thead>\n",
       "    <tr style=\"text-align: right;\">\n",
       "      <th></th>\n",
       "      <th>Column1</th>\n",
       "      <th>Column2</th>\n",
       "      <th>Column3</th>\n",
       "      <th>Result</th>\n",
       "      <th>Column4</th>\n",
       "      <th>Column5</th>\n",
       "    </tr>\n",
       "  </thead>\n",
       "  <tbody>\n",
       "    <tr>\n",
       "      <th>2018-01-01</th>\n",
       "      <td>0.865842</td>\n",
       "      <td>0.207336</td>\n",
       "      <td>0.287298</td>\n",
       "      <td>True</td>\n",
       "      <td>0.969550</td>\n",
       "      <td>0.337664</td>\n",
       "    </tr>\n",
       "    <tr>\n",
       "      <th>2018-01-02</th>\n",
       "      <td>0.910107</td>\n",
       "      <td>0.857314</td>\n",
       "      <td>0.224263</td>\n",
       "      <td>False</td>\n",
       "      <td>0.002377</td>\n",
       "      <td>0.944277</td>\n",
       "    </tr>\n",
       "    <tr>\n",
       "      <th>2018-01-03</th>\n",
       "      <td>0.497532</td>\n",
       "      <td>0.453515</td>\n",
       "      <td>0.985448</td>\n",
       "      <td>False</td>\n",
       "      <td>0.276111</td>\n",
       "      <td>0.580262</td>\n",
       "    </tr>\n",
       "    <tr>\n",
       "      <th>2018-01-04</th>\n",
       "      <td>0.433764</td>\n",
       "      <td>0.600994</td>\n",
       "      <td>0.319250</td>\n",
       "      <td>True</td>\n",
       "      <td>0.053493</td>\n",
       "      <td>0.641503</td>\n",
       "    </tr>\n",
       "    <tr>\n",
       "      <th>2018-01-05</th>\n",
       "      <td>0.779757</td>\n",
       "      <td>0.935117</td>\n",
       "      <td>0.238559</td>\n",
       "      <td>False</td>\n",
       "      <td>0.832650</td>\n",
       "      <td>0.391235</td>\n",
       "    </tr>\n",
       "    <tr>\n",
       "      <th>2018-01-06</th>\n",
       "      <td>0.867593</td>\n",
       "      <td>0.023837</td>\n",
       "      <td>0.579003</td>\n",
       "      <td>False</td>\n",
       "      <td>0.958471</td>\n",
       "      <td>0.400906</td>\n",
       "    </tr>\n",
       "  </tbody>\n",
       "</table>\n",
       "</div>"
      ],
      "text/plain": [
       "             Column1   Column2   Column3  Result   Column4   Column5\n",
       "2018-01-01  0.865842  0.207336  0.287298    True  0.969550  0.337664\n",
       "2018-01-02  0.910107  0.857314  0.224263   False  0.002377  0.944277\n",
       "2018-01-03  0.497532  0.453515  0.985448   False  0.276111  0.580262\n",
       "2018-01-04  0.433764  0.600994  0.319250    True  0.053493  0.641503\n",
       "2018-01-05  0.779757  0.935117  0.238559   False  0.832650  0.391235\n",
       "2018-01-06  0.867593  0.023837  0.579003   False  0.958471  0.400906"
      ]
     },
     "metadata": {},
     "output_type": "display_data"
    }
   ],
   "source": [
    "dates2 = pd.date_range(\"20180101\", periods=7)\n",
    "data2 = np.random.random((7,2))\n",
    "column_names2 = ['Column4', 'Column5']\n",
    "\n",
    "main_df2 = pd.DataFrame(data2, index=dates2, columns=column_names2)\n",
    "\n",
    "print('Join two DataFrames:')\n",
    "d(main_df.join(main_df2))"
   ]
  },
  {
   "cell_type": "markdown",
   "metadata": {},
   "source": [
    "## Groupby"
   ]
  },
  {
   "cell_type": "code",
   "execution_count": 8,
   "metadata": {},
   "outputs": [
    {
     "data": {
      "text/html": [
       "<div>\n",
       "<style>\n",
       "    .dataframe thead tr:only-child th {\n",
       "        text-align: right;\n",
       "    }\n",
       "\n",
       "    .dataframe thead th {\n",
       "        text-align: left;\n",
       "    }\n",
       "\n",
       "    .dataframe tbody tr th {\n",
       "        vertical-align: top;\n",
       "    }\n",
       "</style>\n",
       "<table border=\"1\" class=\"dataframe\">\n",
       "  <thead>\n",
       "    <tr style=\"text-align: right;\">\n",
       "      <th></th>\n",
       "      <th>Column1</th>\n",
       "      <th>Column2</th>\n",
       "      <th>Column3</th>\n",
       "    </tr>\n",
       "    <tr>\n",
       "      <th>Result</th>\n",
       "      <th></th>\n",
       "      <th></th>\n",
       "      <th></th>\n",
       "    </tr>\n",
       "  </thead>\n",
       "  <tbody>\n",
       "    <tr>\n",
       "      <th>False</th>\n",
       "      <td>0.763747</td>\n",
       "      <td>0.567446</td>\n",
       "      <td>0.506818</td>\n",
       "    </tr>\n",
       "    <tr>\n",
       "      <th>True</th>\n",
       "      <td>0.649803</td>\n",
       "      <td>0.404165</td>\n",
       "      <td>0.303274</td>\n",
       "    </tr>\n",
       "  </tbody>\n",
       "</table>\n",
       "</div>"
      ],
      "text/plain": [
       "         Column1   Column2   Column3\n",
       "Result                              \n",
       "False   0.763747  0.567446  0.506818\n",
       "True    0.649803  0.404165  0.303274"
      ]
     },
     "execution_count": 8,
     "metadata": {},
     "output_type": "execute_result"
    }
   ],
   "source": [
    "main_df.groupby('Result').mean()"
   ]
  },
  {
   "cell_type": "markdown",
   "metadata": {},
   "source": [
    "## Accessing to DataFrame attributes"
   ]
  },
  {
   "cell_type": "code",
   "execution_count": 9,
   "metadata": {},
   "outputs": [
    {
     "name": "stdout",
     "output_type": "stream",
     "text": [
      "Index:\n"
     ]
    },
    {
     "data": {
      "text/plain": [
       "DatetimeIndex(['2018-01-01', '2018-01-02', '2018-01-03', '2018-01-04',\n",
       "               '2018-01-05', '2018-01-06'],\n",
       "              dtype='datetime64[ns]', freq='D')"
      ]
     },
     "metadata": {},
     "output_type": "display_data"
    },
    {
     "name": "stdout",
     "output_type": "stream",
     "text": [
      "Values:\n"
     ]
    },
    {
     "data": {
      "text/plain": [
       "array([[0.8658417055107381, 0.20733597572399842, 0.2872983523689635, True],\n",
       "       [0.9101066960058164, 0.8573144690479608, 0.22426301179056174, False],\n",
       "       [0.4975319079062607, 0.45351483301616224, 0.9854477497360844, False],\n",
       "       [0.43376417681248913, 0.6009937058560123, 0.31925013590324003, True],\n",
       "       [0.7797567728099666, 0.9351167125270917, 0.23855911775647587, False],\n",
       "       [0.8675925937779295, 0.023837261678446686, 0.5790031224544956, False]], dtype=object)"
      ]
     },
     "metadata": {},
     "output_type": "display_data"
    },
    {
     "name": "stdout",
     "output_type": "stream",
     "text": [
      "Columns:\n"
     ]
    },
    {
     "data": {
      "text/plain": [
       "Index(['Column1', 'Column2', 'Column3', 'Result'], dtype='object')"
      ]
     },
     "metadata": {},
     "output_type": "display_data"
    }
   ],
   "source": [
    "print('Index:')\n",
    "d(main_df.index)\n",
    "print('Values:')\n",
    "d(main_df.values)\n",
    "print('Columns:')\n",
    "d(main_df.columns)"
   ]
  },
  {
   "cell_type": "markdown",
   "metadata": {},
   "source": [
    "## Transformation"
   ]
  },
  {
   "cell_type": "code",
   "execution_count": 13,
   "metadata": {},
   "outputs": [
    {
     "data": {
      "text/html": [
       "<div>\n",
       "<style>\n",
       "    .dataframe thead tr:only-child th {\n",
       "        text-align: right;\n",
       "    }\n",
       "\n",
       "    .dataframe thead th {\n",
       "        text-align: left;\n",
       "    }\n",
       "\n",
       "    .dataframe tbody tr th {\n",
       "        vertical-align: top;\n",
       "    }\n",
       "</style>\n",
       "<table border=\"1\" class=\"dataframe\">\n",
       "  <thead>\n",
       "    <tr style=\"text-align: right;\">\n",
       "      <th></th>\n",
       "      <th>Column1</th>\n",
       "      <th>Column2</th>\n",
       "      <th>Column3</th>\n",
       "      <th>Result</th>\n",
       "    </tr>\n",
       "  </thead>\n",
       "  <tbody>\n",
       "    <tr>\n",
       "      <th>2018-01-01</th>\n",
       "      <td>0.865842</td>\n",
       "      <td>0.207336</td>\n",
       "      <td>0.287298</td>\n",
       "      <td>True</td>\n",
       "    </tr>\n",
       "    <tr>\n",
       "      <th>2018-01-02</th>\n",
       "      <td>0.910107</td>\n",
       "      <td>0.857314</td>\n",
       "      <td>0.224263</td>\n",
       "      <td>False</td>\n",
       "    </tr>\n",
       "    <tr>\n",
       "      <th>2018-01-03</th>\n",
       "      <td>0.497532</td>\n",
       "      <td>0.453515</td>\n",
       "      <td>0.985448</td>\n",
       "      <td>False</td>\n",
       "    </tr>\n",
       "    <tr>\n",
       "      <th>2018-01-04</th>\n",
       "      <td>0.433764</td>\n",
       "      <td>0.600994</td>\n",
       "      <td>0.319250</td>\n",
       "      <td>True</td>\n",
       "    </tr>\n",
       "    <tr>\n",
       "      <th>2018-01-05</th>\n",
       "      <td>0.779757</td>\n",
       "      <td>0.935117</td>\n",
       "      <td>0.238559</td>\n",
       "      <td>False</td>\n",
       "    </tr>\n",
       "    <tr>\n",
       "      <th>2018-01-06</th>\n",
       "      <td>0.867593</td>\n",
       "      <td>0.023837</td>\n",
       "      <td>0.579003</td>\n",
       "      <td>False</td>\n",
       "    </tr>\n",
       "  </tbody>\n",
       "</table>\n",
       "</div>"
      ],
      "text/plain": [
       "             Column1   Column2   Column3  Result\n",
       "2018-01-01  0.865842  0.207336  0.287298    True\n",
       "2018-01-02  0.910107  0.857314  0.224263   False\n",
       "2018-01-03  0.497532  0.453515  0.985448   False\n",
       "2018-01-04  0.433764  0.600994  0.319250    True\n",
       "2018-01-05  0.779757  0.935117  0.238559   False\n",
       "2018-01-06  0.867593  0.023837  0.579003   False"
      ]
     },
     "execution_count": 13,
     "metadata": {},
     "output_type": "execute_result"
    }
   ],
   "source": [
    "main_df"
   ]
  },
  {
   "cell_type": "code",
   "execution_count": 14,
   "metadata": {},
   "outputs": [
    {
     "data": {
      "text/html": [
       "<div>\n",
       "<style>\n",
       "    .dataframe thead tr:only-child th {\n",
       "        text-align: right;\n",
       "    }\n",
       "\n",
       "    .dataframe thead th {\n",
       "        text-align: left;\n",
       "    }\n",
       "\n",
       "    .dataframe tbody tr th {\n",
       "        vertical-align: top;\n",
       "    }\n",
       "</style>\n",
       "<table border=\"1\" class=\"dataframe\">\n",
       "  <thead>\n",
       "    <tr style=\"text-align: right;\">\n",
       "      <th></th>\n",
       "      <th>Column1</th>\n",
       "      <th>Column2</th>\n",
       "      <th>Column3</th>\n",
       "      <th>Result</th>\n",
       "    </tr>\n",
       "  </thead>\n",
       "  <tbody>\n",
       "    <tr>\n",
       "      <th>2018-01-01</th>\n",
       "      <td>1.865842</td>\n",
       "      <td>0.207336</td>\n",
       "      <td>0.287298</td>\n",
       "      <td>True</td>\n",
       "    </tr>\n",
       "    <tr>\n",
       "      <th>2018-01-02</th>\n",
       "      <td>1.910107</td>\n",
       "      <td>0.857314</td>\n",
       "      <td>0.224263</td>\n",
       "      <td>False</td>\n",
       "    </tr>\n",
       "    <tr>\n",
       "      <th>2018-01-03</th>\n",
       "      <td>1.497532</td>\n",
       "      <td>0.453515</td>\n",
       "      <td>0.985448</td>\n",
       "      <td>False</td>\n",
       "    </tr>\n",
       "    <tr>\n",
       "      <th>2018-01-04</th>\n",
       "      <td>1.433764</td>\n",
       "      <td>0.600994</td>\n",
       "      <td>0.319250</td>\n",
       "      <td>True</td>\n",
       "    </tr>\n",
       "    <tr>\n",
       "      <th>2018-01-05</th>\n",
       "      <td>1.779757</td>\n",
       "      <td>0.935117</td>\n",
       "      <td>0.238559</td>\n",
       "      <td>False</td>\n",
       "    </tr>\n",
       "    <tr>\n",
       "      <th>2018-01-06</th>\n",
       "      <td>1.867593</td>\n",
       "      <td>0.023837</td>\n",
       "      <td>0.579003</td>\n",
       "      <td>False</td>\n",
       "    </tr>\n",
       "  </tbody>\n",
       "</table>\n",
       "</div>"
      ],
      "text/plain": [
       "             Column1   Column2   Column3  Result\n",
       "2018-01-01  1.865842  0.207336  0.287298    True\n",
       "2018-01-02  1.910107  0.857314  0.224263   False\n",
       "2018-01-03  1.497532  0.453515  0.985448   False\n",
       "2018-01-04  1.433764  0.600994  0.319250    True\n",
       "2018-01-05  1.779757  0.935117  0.238559   False\n",
       "2018-01-06  1.867593  0.023837  0.579003   False"
      ]
     },
     "execution_count": 14,
     "metadata": {},
     "output_type": "execute_result"
    }
   ],
   "source": [
    "# Increment Column1 by one\n",
    "main_df['Column1'] = main_df['Column1'].apply(lambda x: x + 1)\n",
    "main_df"
   ]
  },
  {
   "cell_type": "code",
   "execution_count": 15,
   "metadata": {
    "collapsed": true
   },
   "outputs": [],
   "source": [
    "# Examples of date transformations:\n",
    "# df[‘MonthYear’] = pd.to_datetime(df[‘MonthYear’])\n",
    "# df[‘MonthYear’] = df[‘MonthYear’].apply(lambda x: x.date())"
   ]
  }
 ],
 "metadata": {
  "kernelspec": {
   "display_name": "Python 3",
   "language": "python",
   "name": "python3"
  },
  "language_info": {
   "codemirror_mode": {
    "name": "ipython",
    "version": 3
   },
   "file_extension": ".py",
   "mimetype": "text/x-python",
   "name": "python",
   "nbconvert_exporter": "python",
   "pygments_lexer": "ipython3",
   "version": "3.6.5"
  }
 },
 "nbformat": 4,
 "nbformat_minor": 2
}
