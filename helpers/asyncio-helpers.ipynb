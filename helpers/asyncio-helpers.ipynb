{
 "cells": [
  {
   "cell_type": "code",
   "execution_count": null,
   "metadata": {},
   "outputs": [],
   "source": [
    "async def _wrap_coro(sem, coro):\n",
    "    # Semaphore limits num of concurrent I/O\n",
    "    async with sem:\n",
    "        return await coro\n",
    "    \n",
    "\n",
    "async def _run_until_complete(coros, limit):\n",
    "    sem = asyncio.Semaphore(limit)\n",
    "    futures = [\n",
    "        _wrap_coro(sem, coro)\n",
    "        for coro in coros\n",
    "    ]\n",
    "    return await asyncio.wait(futures)\n",
    "\n",
    "def run_until_complete(coros, limit=None, loop=None):\n",
    "    if limit is None:\n",
    "        limit = len(coros)\n",
    "    if loop is None:\n",
    "        loop = asyncio.get_event_loop()\n",
    "    \n",
    "    return loop.run_until_complete(_run_until_complete(coros, limit=limit))"
   ]
  }
 ],
 "metadata": {
  "kernelspec": {
   "display_name": "Python 3",
   "language": "python",
   "name": "python3"
  },
  "language_info": {
   "codemirror_mode": {
    "name": "ipython",
    "version": 3
   },
   "file_extension": ".py",
   "mimetype": "text/x-python",
   "name": "python",
   "nbconvert_exporter": "python",
   "pygments_lexer": "ipython3",
   "version": "3.6.3"
  }
 },
 "nbformat": 4,
 "nbformat_minor": 2
}
