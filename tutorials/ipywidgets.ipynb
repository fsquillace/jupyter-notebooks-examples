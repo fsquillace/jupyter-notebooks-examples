{
 "cells": [
  {
   "cell_type": "markdown",
   "metadata": {},
   "source": [
    "# Ipywidgets interact examples\n",
    "This example shows how powerful is the `interact` function from `ipywidget` package.\n",
    "Ipywidgets allows to have an immediate connection with the code you are working on by tuning the parameter values with UI controls.\n",
    "More detailed documentation about `interact` is [here](https://ipywidgets.readthedocs.io/en/latest/examples/Using%20Interact.html#Basic-interact)."
   ]
  },
  {
   "cell_type": "code",
   "execution_count": 9,
   "metadata": {},
   "outputs": [
    {
     "data": {
      "application/vnd.jupyter.widget-view+json": {
       "model_id": "1cd0fae27fa641ef9952f3487cd495f9",
       "version_major": 2,
       "version_minor": 0
      },
      "text/plain": [
       "interactive(children=(Checkbox(value=True, description='a'), IntSlider(value=5, description='b', max=10), IntS…"
      ]
     },
     "metadata": {},
     "output_type": "display_data"
    }
   ],
   "source": [
    "from ipywidgets import interact, fixed\n",
    "\n",
    "@interact(a=True, b=(0, 10, 1), c=30, d=\"Hello there!\", e=fixed(20), f=['orange','apple'], g={'one':1,'two':2})\n",
    "def myfunc(a, b, c, d, e, f, g):\n",
    "    return (a, b, c, d, e, f, g)\n"
   ]
  },
  {
   "cell_type": "markdown",
   "metadata": {},
   "source": [
    "# Advanced widgets"
   ]
  },
  {
   "cell_type": "code",
   "execution_count": 1,
   "metadata": {},
   "outputs": [
    {
     "data": {
      "application/vnd.jupyter.widget-view+json": {
       "model_id": "ac857554952c4d0db6fc8a83e8e76346",
       "version_major": 2,
       "version_minor": 0
      },
      "text/plain": [
       "HBox(children=(Play(value=50, description='Press play'), IntSlider(value=0)))"
      ]
     },
     "metadata": {},
     "output_type": "display_data"
    }
   ],
   "source": [
    "import ipywidgets as widgets\n",
    "play = widgets.Play(\n",
    "    interval=100,\n",
    "    value=50,\n",
    "    min=0,\n",
    "    max=100,\n",
    "    step=1,\n",
    "    description=\"Press play\",\n",
    "    disabled=False\n",
    ")\n",
    "slider = widgets.IntSlider()\n",
    "widgets.jslink((play, 'value'), (slider, 'value'))\n",
    "widgets.HBox([play, slider])"
   ]
  },
  {
   "cell_type": "code",
   "execution_count": 10,
   "metadata": {},
   "outputs": [
    {
     "data": {
      "application/vnd.jupyter.widget-view+json": {
       "model_id": "faf923faaa2d42c694ccc3c0306cda42",
       "version_major": 2,
       "version_minor": 0
      },
      "text/plain": [
       "DatePicker(value=None, description='Pick a Date')"
      ]
     },
     "metadata": {},
     "output_type": "display_data"
    }
   ],
   "source": [
    "widgets.DatePicker(\n",
    "    description='Pick a Date',\n",
    "    disabled=False\n",
    ")"
   ]
  },
  {
   "cell_type": "code",
   "execution_count": 11,
   "metadata": {},
   "outputs": [
    {
     "data": {
      "application/vnd.jupyter.widget-view+json": {
       "model_id": "8ed41d7df80d4ea4af34588b3593c9b5",
       "version_major": 2,
       "version_minor": 0
      },
      "text/plain": [
       "ColorPicker(value='blue', description='Pick a color')"
      ]
     },
     "metadata": {},
     "output_type": "display_data"
    }
   ],
   "source": [
    "widgets.ColorPicker(\n",
    "    concise=False,\n",
    "    description='Pick a color',\n",
    "    value='blue',\n",
    "    disabled=False\n",
    ")"
   ]
  },
  {
   "cell_type": "code",
   "execution_count": 12,
   "metadata": {},
   "outputs": [
    {
     "data": {
      "application/vnd.jupyter.widget-view+json": {
       "model_id": "2b945919bfaf47f6899053e69822da4e",
       "version_major": 2,
       "version_minor": 0
      },
      "text/plain": [
       "Tab(children=(Text(value='', description='P0'), Text(value='', description='P1'), Text(value='', description='…"
      ]
     },
     "metadata": {},
     "output_type": "display_data"
    }
   ],
   "source": [
    "tab_contents = ['P0', 'P1', 'P2', 'P3', 'P4']\n",
    "children = [widgets.Text(description=name) for name in tab_contents]\n",
    "tab = widgets.Tab()\n",
    "tab.children = children\n",
    "for i in range(len(children)):\n",
    "    tab.set_title(i, str(i))\n",
    "tab"
   ]
  },
  {
   "cell_type": "markdown",
   "metadata": {},
   "source": [
    "# Visualize a function controlled by sliders\n",
    "This notebook is an example of how a certain function can be studied my using the ipywidgets and matplotlib. In particular, the notebook shows how you can control the function parameters (`a`, `b`, ...) via sliders which will change the shape of the function accordingly."
   ]
  },
  {
   "cell_type": "code",
   "execution_count": 1,
   "metadata": {
    "collapsed": true
   },
   "outputs": [],
   "source": [
    "from collections import namedtuple\n",
    "from IPython.display import display\n",
    "from ipywidgets import interactive\n",
    "\n",
    "import matplotlib.pyplot as plt\n",
    "import numpy as np\n",
    "\n",
    "%matplotlib inline\n",
    "\n",
    "Parameter=namedtuple('Parameter', ['name', 'min', 'max', 'step'])\n",
    "XRange=namedtuple('XRange', ['min', 'max', 'points'])\n",
    "\n",
    "# The function inputs\n",
    "XRANGE = XRange(0, 100, 500)\n",
    "PARAMETERS= (\n",
    "    Parameter('a', 0, 3, 1),\n",
    "    Parameter('b', 0, 10, 1)\n",
    ")\n",
    "\n",
    "# The function to evaluate\n",
    "def myfunc(x, a, b):\n",
    "    return np.sqrt(a*x) + a*x**2 + x**b"
   ]
  },
  {
   "cell_type": "code",
   "execution_count": 2,
   "metadata": {},
   "outputs": [
    {
     "data": {
      "application/vnd.jupyter.widget-view+json": {
       "model_id": "e6e93982161f453790e7e89396e2848a",
       "version_major": 2,
       "version_minor": 0
      },
      "text/plain": [
       "interactive(children=(IntSlider(value=1, description='a', max=3), IntSlider(value=5, description='b', max=10),…"
      ]
     },
     "metadata": {},
     "output_type": "display_data"
    }
   ],
   "source": [
    "x = np.linspace(XRANGE.min, XRANGE.max, XRANGE.points)\n",
    "\n",
    "def func_wrapper(**kwargs):\n",
    "    r = myfunc(x, **kwargs)\n",
    "    plt.figure(figsize=(8,5))\n",
    "    plt.plot(x, r, c='k', lw=3)\n",
    "    plt.grid(True)\n",
    "    plt.show()\n",
    "    return r\n",
    "    \n",
    "box = interactive(func_wrapper, **{par.name:(par.min, par.max, par.step) for par in PARAMETERS})\n",
    "display(box)\n",
    "\n",
    "# Show stream of changes in the sliders\n",
    "for slider in box.children[:-1]:\n",
    "    slider.observe(lambda change: print(change), names='value')"
   ]
  },
  {
   "cell_type": "markdown",
   "metadata": {},
   "source": [
    "# Ideal fitting function and actual data generating function with noise"
   ]
  },
  {
   "cell_type": "code",
   "execution_count": 4,
   "metadata": {},
   "outputs": [
    {
     "data": {
      "application/vnd.jupyter.widget-view+json": {
       "model_id": "6287002e0b6c4c0992b842f9d2063d16",
       "version_major": 2,
       "version_minor": 0
      },
      "text/plain": [
       "interactive(children=(Dropdown(description='amplitude', options=(1, 2, 3, 4, 5), value=1), FloatSlider(value=0…"
      ]
     },
     "metadata": {},
     "output_type": "display_data"
    }
   ],
   "source": [
    "from ipywidgets import interactive\n",
    "from IPython.display import display\n",
    "\n",
    "import numpy as np\n",
    "import matplotlib.pyplot as plt\n",
    "#%matplotlib inline\n",
    "\n",
    "def func(amplitude, ideal_mu, ideal_sigma, noise_sd, noise_mean, n_samples):\n",
    "    x=np.linspace(-2,2,n_samples)\n",
    "    r = amplitude * np.exp(-(x-ideal_mu)**2/(2*ideal_sigma**2+0000.1))\n",
    "    plt.figure(figsize=(8,5))\n",
    "    plt.plot(x,r,c='k',lw=3)\n",
    "    r = r + np.random.normal(loc=noise_mean, scale=noise_sd, size=n_samples)\n",
    "    plt.scatter(x,r,edgecolors='k',c='yellow',s=60)\n",
    "    plt.grid(True)\n",
    "    plt.show()\n",
    "    return (r)\n",
    "\n",
    "y=interactive(func,amplitude=[1,2,3,4,5], ideal_mu=(-5,5,0.5),\n",
    "              ideal_sigma=(0,2,0.2),\n",
    "              noise_sd=(0,1,0.1), noise_mean=(-1,1,0.2),\n",
    "              n_samples=(25,50,5))\n",
    "display(y)"
   ]
  }
 ],
 "metadata": {
  "kernelspec": {
   "display_name": "Python 3",
   "language": "python",
   "name": "python3"
  },
  "language_info": {
   "codemirror_mode": {
    "name": "ipython",
    "version": 3
   },
   "file_extension": ".py",
   "mimetype": "text/x-python",
   "name": "python",
   "nbconvert_exporter": "python",
   "pygments_lexer": "ipython3",
   "version": "3.6.8"
  }
 },
 "nbformat": 4,
 "nbformat_minor": 2
}
