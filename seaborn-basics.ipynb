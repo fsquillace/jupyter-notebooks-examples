{
 "cells": [
  {
   "cell_type": "markdown",
   "metadata": {},
   "source": [
    "# Seaborn\n",
    "\n",
    "http://seaborn.pydata.org/examples/index.html\n",
    "\n",
    "https://s3.amazonaws.com/assets.datacamp.com/blog_assets/Python_Seaborn_Cheat_Sheet.pdf\n",
    "\n",
    "https://www.datacamp.com/community/tutorials/seaborn-python-tutorial"
   ]
  },
  {
   "cell_type": "code",
   "execution_count": 1,
   "metadata": {
    "collapsed": true
   },
   "outputs": [],
   "source": [
    "import pandas as pd\n",
    "import seaborn as sns"
   ]
  },
  {
   "cell_type": "code",
   "execution_count": 2,
   "metadata": {
    "collapsed": true
   },
   "outputs": [],
   "source": [
    "\n",
    "weekData = [\n",
    "  { \"name\": \"John\",    \"distance\": 35.4,   \"high-speed-running\": 3.65,   \"week\": 1 },\n",
    "  { \"name\": \"Mike\",    \"distance\": 32.9,   \"high-speed-running\": 3.77,   \"week\": 1 },\n",
    "  { \"name\": \"Chad\",    \"distance\": 27.2,   \"high-speed-running\": 3.02,   \"week\": 1 },\n",
    "  { \"name\": \"Phil\",    \"distance\": 20.5,   \"high-speed-running\": 2.01,   \"week\": 1 },\n",
    "  { \"name\": \"Tyler\",   \"distance\": 15.3,   \"high-speed-running\": 2.09,   \"week\": 1 },\n",
    "  { \"name\": \"John\",    \"distance\": 38.4,   \"high-speed-running\": 4.95,   \"week\": 2 },\n",
    "  { \"name\": \"Mike\",    \"distance\": 37.9,   \"high-speed-running\": 4.97,   \"week\": 2 },\n",
    "  { \"name\": \"Chad\",    \"distance\": 33.2,   \"high-speed-running\": 4.42,   \"week\": 2 },\n",
    "  { \"name\": \"Phil\",    \"distance\": 25.5,   \"high-speed-running\": 3.91,   \"week\": 2 },\n",
    "  { \"name\": \"Tyler\",   \"distance\": 19.3,   \"high-speed-running\": 3.09,   \"week\": 2 },\n",
    "]\n",
    "\n",
    "weekDf = pd.DataFrame(data=weekData)\n",
    "\n",
    "plot = sns.lmplot(x='high-speed-running', y='distance', data=weekDf)"
   ]
  },
  {
   "cell_type": "code",
   "execution_count": 3,
   "metadata": {},
   "outputs": [
    {
     "data": {
      "text/plain": [
       "<seaborn.axisgrid.FacetGrid at 0x7f9013307400>"
      ]
     },
     "execution_count": 3,
     "metadata": {},
     "output_type": "execute_result"
    }
   ],
   "source": [
    "plot"
   ]
  },
  {
   "cell_type": "code",
   "execution_count": 3,
   "metadata": {},
   "outputs": [
    {
     "data": {
      "text/plain": [
       "<seaborn.axisgrid.FacetGrid at 0x7ff29670e748>"
      ]
     },
     "execution_count": 3,
     "metadata": {},
     "output_type": "execute_result"
    }
   ],
   "source": []
  }
 ],
 "metadata": {
  "kernelspec": {
   "display_name": "Python 3",
   "language": "python",
   "name": "python3"
  },
  "language_info": {
   "codemirror_mode": {
    "name": "ipython",
    "version": 3
   },
   "file_extension": ".py",
   "mimetype": "text/x-python",
   "name": "python",
   "nbconvert_exporter": "python",
   "pygments_lexer": "ipython3",
   "version": "3.6.4"
  }
 },
 "nbformat": 4,
 "nbformat_minor": 2
}
