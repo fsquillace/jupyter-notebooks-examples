{
 "cells": [
  {
   "cell_type": "markdown",
   "metadata": {},
   "source": [
    "# iPySheet\n",
    "\n",
    "More examples here: https://towardsdatascience.com/interactive-spreadsheets-in-jupyter-32ab6ec0f4ff"
   ]
  },
  {
   "cell_type": "code",
   "execution_count": 1,
   "metadata": {},
   "outputs": [],
   "source": [
    "from ipysheet import sheet, cell, row, column, cell_range"
   ]
  },
  {
   "cell_type": "code",
   "execution_count": 10,
   "metadata": {},
   "outputs": [
    {
     "data": {
      "application/vnd.jupyter.widget-view+json": {
       "model_id": "9eefa01a927c49c4a082106e77488c02",
       "version_major": 2,
       "version_minor": 0
      },
      "text/plain": [
       "Sheet(cells=(Cell(column_end=0, column_start=0, row_end=0, row_start=0, type='text', value='Hello'), Cell(colu…"
      ]
     },
     "metadata": {},
     "output_type": "display_data"
    }
   ],
   "source": [
    "sheet1 = sheet(rows=3, columns=4)\n",
    "\n",
    "cell1 = cell(0, 0, 'Hello')\n",
    "cell1 = cell(2, 0, 'World')\n",
    "cell_value = cell(2, 2, 42)\n",
    "\n",
    "sheet1"
   ]
  },
  {
   "cell_type": "markdown",
   "metadata": {},
   "source": [
    "## Create rows and columns"
   ]
  },
  {
   "cell_type": "code",
   "execution_count": 11,
   "metadata": {},
   "outputs": [
    {
     "data": {
      "application/vnd.jupyter.widget-view+json": {
       "model_id": "b79412e1e9344cc197b705e7278dadfa",
       "version_major": 2,
       "version_minor": 0
      },
      "text/plain": [
       "Sheet(cells=(Cell(column_end=3, column_start=0, row_end=0, row_start=0, squeeze_column=False, style={'backgrou…"
      ]
     },
     "metadata": {},
     "output_type": "display_data"
    }
   ],
   "source": [
    "sheet2 = sheet(rows=5, columns=4)\n",
    "\n",
    "myrow = row(0, [0, 1, 2, 3], background_color=\"red\")\n",
    "mycolumn = column(1, ['a', 'b', 'c', 'd'], row_start=1, background_color='green')\n",
    "cells = cell_range(\n",
    "    [['hi', 'hola'], ['ciao', 'bonjour'], ['hallo', 'guten tag']],\n",
    "    row_start=1, column_start=2, background_color='yellow'\n",
    ")\n",
    "\n",
    "sheet2"
   ]
  },
  {
   "cell_type": "markdown",
   "metadata": {},
   "source": [
    "## IPyWidgets interaction"
   ]
  },
  {
   "cell_type": "code",
   "execution_count": 2,
   "metadata": {},
   "outputs": [
    {
     "data": {
      "application/vnd.jupyter.widget-view+json": {
       "model_id": "4dcbc8b007224127a86340f23d7ae860",
       "version_major": 2,
       "version_minor": 0
      },
      "text/plain": [
       "VBox(children=(Sheet(cells=(Cell(column_end=1, column_start=1, row_end=0, row_start=0, type='numeric', value=1…"
      ]
     },
     "metadata": {},
     "output_type": "display_data"
    }
   ],
   "source": [
    "from ipywidgets import FloatSlider, link, VBox\n",
    "from ipysheet import calculation\n",
    "\n",
    "sheet3 = sheet(rows=3, columns=2, column_headers=False, row_headers=False)\n",
    "cell_a = cell(0, 1, 1, label_left='a')\n",
    "cell_b = cell(1, 1, 2, label_left='b')\n",
    "cell_sum = cell(2, 1, 3, label_left='sum', read_only=True)\n",
    "\n",
    "# Create a slider linked to cell \"a\"\n",
    "slider = FloatSlider(min=-10, max=10, description='a')\n",
    "link((cell_a, 'value'), (slider, 'value'))\n",
    "\n",
    "@calculation(inputs=[cell_a, cell_b], output=cell_sum)\n",
    "def calculate(a, b):\n",
    "    return a + b\n",
    "\n",
    "VBox((sheet3, slider))"
   ]
  },
  {
   "cell_type": "code",
   "execution_count": null,
   "metadata": {},
   "outputs": [],
   "source": []
  }
 ],
 "metadata": {
  "kernelspec": {
   "display_name": "Python 3",
   "language": "python",
   "name": "python3"
  },
  "language_info": {
   "codemirror_mode": {
    "name": "ipython",
    "version": 3
   },
   "file_extension": ".py",
   "mimetype": "text/x-python",
   "name": "python",
   "nbconvert_exporter": "python",
   "pygments_lexer": "ipython3",
   "version": "3.6.8"
  }
 },
 "nbformat": 4,
 "nbformat_minor": 2
}
