{
 "cells": [
  {
   "cell_type": "markdown",
   "metadata": {},
   "source": [
    "# Structural Patterns\n",
    "\n",
    "See also:\n",
    "- https://github.com/faif/python-patterns\n",
    "- https://sourcemaking.com/design_patterns/structural_patterns"
   ]
  },
  {
   "cell_type": "markdown",
   "metadata": {},
   "source": [
    "## Decorator"
   ]
  },
  {
   "cell_type": "code",
   "execution_count": 5,
   "metadata": {},
   "outputs": [
    {
     "name": "stdout",
     "output_type": "stream",
     "text": [
      "Calling decorated function\n",
      "Hello, World!\n",
      "Function name: hello_world\n",
      "Function doc: Original function! \n"
     ]
    }
   ],
   "source": [
    "from functools import wraps\n",
    "\n",
    "def my_decorator(f):\n",
    "    \"\"\"Defines the decorator\"\"\"\n",
    "    #wraps makes the decorator transparent in terms of its name and docstring\n",
    "    @wraps(f)\n",
    "    def decorator(*args, **kwargs):\n",
    "        print('Calling decorated function')\n",
    "        return f(*args, **kwargs)\n",
    "    return decorator\n",
    "\n",
    "@my_decorator\n",
    "def hello_world():\n",
    "    \"\"\"Original function! \"\"\"\n",
    "    return \"Hello, World!\"\n",
    "\n",
    "#Check the result of decorating\n",
    "print(hello_world())\n",
    "\n",
    "#Check if the function name is still the same name of the function being decorated\n",
    "print('Function name: {}'.format(hello_world.__name__))\n",
    "\n",
    "#Check if the docstring is still the same as that of the function being decorated\n",
    "print('Function doc: {}'.format(hello_world.__doc__))"
   ]
  },
  {
   "cell_type": "markdown",
   "metadata": {},
   "source": [
    "## Proxy\n",
    "\n",
    "It isn’t necessary that Implementation have the same interface as Proxy; as long as Proxy is somehow “speaking for” the class that it is referring method calls to then the basic idea is satisfied (note that this statement is at odds with the definition for Proxy in GoF). However, it is convenient to have a common interface so that Implementation is forced to fulfill all the methods that Proxy needs to call."
   ]
  },
  {
   "cell_type": "code",
   "execution_count": 7,
   "metadata": {},
   "outputs": [
    {
     "name": "stdout",
     "output_type": "stream",
     "text": [
      "Implementation.f()\n",
      "Implementation.g()\n",
      "Implementation.h()\n"
     ]
    }
   ],
   "source": [
    "class Implementation(object):\n",
    "    def f(self):\n",
    "        print(\"Implementation.f()\")\n",
    "    def g(self):\n",
    "        print(\"Implementation.g()\")\n",
    "    def h(self):\n",
    "        print(\"Implementation.h()\")\n",
    "\n",
    "class Proxy(object):\n",
    "    def __init__(self):\n",
    "        self.__implementation = Implementation()\n",
    "    def __getattr__(self, name):\n",
    "        return getattr(self.__implementation, name)\n",
    "\n",
    "p = Proxy()\n",
    "p.f(); p.g(); p.h();"
   ]
  },
  {
   "cell_type": "markdown",
   "metadata": {},
   "source": [
    "## Adapter\n",
    "Converts the interface of a class into another one a client is expecting."
   ]
  },
  {
   "cell_type": "code",
   "execution_count": 8,
   "metadata": {
    "collapsed": true
   },
   "outputs": [],
   "source": [
    "class Korean:(object)\n",
    "    \"\"\"Korean speaker\"\"\"\n",
    "    def __init__(self):\n",
    "        self.name = \"Korean\"\n",
    "\n",
    "    def speak_korean(self):\n",
    "        return \"An-neyong?\"\n",
    "\n",
    "class British(object):\n",
    "    \"\"\"English speaker\"\"\"\n",
    "    def __init__(self):\n",
    "        self.name = \"British\"\n",
    "\n",
    "    #Note the different method name here!\n",
    "    def speak_english(self):\n",
    "        return \"Hello!\"\t\n",
    "\n",
    "class Adapter(object):\n",
    "    \"\"\"This changes the generic method name to individualized method names\"\"\"\n",
    "\n",
    "    def __init__(self, obj, **adapted_method):\n",
    "        \"\"\"Change the name of the method\"\"\"\n",
    "        self._obj = obj\n",
    "\n",
    "        #Add a new dictionary item that establishes the mapping between the generic method name: speak() and the concrete method\n",
    "        #For example, speak() will be translated to speak_korean() if the mapping says so\n",
    "        self.__dict__.update(adapted_method)\n",
    "\n",
    "    def __getattr__(self, attr):\n",
    "        \"\"\"Simply return the rest of attributes!\"\"\"\n",
    "        return getattr(self._obj, attr)"
   ]
  },
  {
   "cell_type": "code",
   "execution_count": 9,
   "metadata": {},
   "outputs": [
    {
     "name": "stdout",
     "output_type": "stream",
     "text": [
      "Korean says 'An-neyong?'\n",
      "\n",
      "British says 'Hello!'\n",
      "\n"
     ]
    }
   ],
   "source": [
    "#List to store speaker objects\n",
    "objects = []\n",
    "\n",
    "#Create a Korean object\n",
    "korean = Korean()\n",
    "\n",
    "#Create a British object\n",
    "british =British()\n",
    "\n",
    "#Append the objects to the objects list\n",
    "objects.append(Adapter(korean, speak=korean.speak_korean))\n",
    "objects.append(Adapter(british, speak=british.speak_english))\n",
    "\n",
    "\n",
    "for obj in objects:\n",
    "    print(\"{} says '{}'\\n\".format(obj.name, obj.speak()))"
   ]
  },
  {
   "cell_type": "markdown",
   "metadata": {},
   "source": [
    "## Composite"
   ]
  },
  {
   "cell_type": "code",
   "execution_count": 15,
   "metadata": {
    "collapsed": true
   },
   "outputs": [],
   "source": [
    "class Component(object):\n",
    "    \"\"\"Abstract class\"\"\"\n",
    "    \n",
    "    def __init__(self, *args, **kwargs):\n",
    "        #This is where we store the name of the component object\n",
    "        self._name = args[0]\n",
    "\n",
    "    def component_function(self):\n",
    "        raise NotImplementedError('')\n",
    "\n",
    "class Child(Component): #Inherits from the abstract class, Component\n",
    "    \"\"\"Concrete class\"\"\"\n",
    "\n",
    "    def __init__(self, *args, **kwargs):\n",
    "        Component.__init__(self, *args, **kwargs)\n",
    "\n",
    "    def component_function(self):\n",
    "        #Print the name of your child item here!\n",
    "        print(\"{}\".format(self._name))\n",
    "\n",
    "class Composite(Component): #Inherits from the abstract class, Component\n",
    "    \"\"\"Concrete class and maintains the tree recursive structure\"\"\"\n",
    "\n",
    "    def __init__(self, *args, **kwargs):\n",
    "        Component.__init__(self, *args, **kwargs)\n",
    "\n",
    "        #This is where we keep our child items\n",
    "        self._children = []\n",
    "\n",
    "    def append_child(self, child):\n",
    "        \"\"\"Method to add a new child item\"\"\"\n",
    "        self._children.append(child)\n",
    "\n",
    "    def remove_child(self, child):\n",
    "        \"\"\"Method to remove a child item\"\"\"\n",
    "        self._children.remove(child)\n",
    "\n",
    "    def component_function(self):\n",
    "        #Print the name of the composite object\n",
    "        print(\"{}\".format(self._name))\n",
    "\n",
    "        #Iterate through the child objects and invoke their component function printing their names\n",
    "        for child in self._children:\n",
    "            child.component_function()"
   ]
  },
  {
   "cell_type": "code",
   "execution_count": 16,
   "metadata": {},
   "outputs": [
    {
     "name": "stdout",
     "output_type": "stream",
     "text": [
      "top_menu\n",
      "submenu1\n",
      "sub_submenu 11\n",
      "sub_submenu 12\n",
      "submenu2\n"
     ]
    }
   ],
   "source": [
    "#Build a composite submenu 1\n",
    "sub1 = Composite(\"submenu1\")\n",
    "\n",
    "#Create a new child sub_submenu 11\n",
    "sub11 = Child(\"sub_submenu 11\")\n",
    "#Create a new Child sub_submenu 12\n",
    "sub12 = Child(\"sub_submenu 12\")\n",
    "\n",
    "#Add the sub_submenu 11 to submenu 1\n",
    "sub1.append_child(sub11)\n",
    "#Add the sub_submenu 12 to submenu 1\n",
    "sub1.append_child(sub12)\n",
    "\n",
    "#Build a top-level composite menu\n",
    "top = Composite(\"top_menu\")\n",
    "\n",
    "#Build a submenu 2 that is not a composite\n",
    "sub2 = Child(\"submenu2\")\n",
    "\n",
    "#Add the composite submenu 1 to the top-level composite menu\n",
    "top.append_child(sub1)\n",
    "\n",
    "#Add the plain submenu 2 to the top-level composite menu\n",
    "top.append_child(sub2)\n",
    "\n",
    "#Let's test if our Composite pattern works!\n",
    "top.component_function()"
   ]
  },
  {
   "cell_type": "markdown",
   "metadata": {},
   "source": [
    "## Bridge\n",
    "There are two parallel or orthogonal abstractions that need to be separated between each other."
   ]
  },
  {
   "cell_type": "code",
   "execution_count": null,
   "metadata": {
    "collapsed": true
   },
   "outputs": [],
   "source": [
    "class DrawingAPIOne(object):\n",
    "    \"\"\"Implementation-specific abstraction: concrete class one\"\"\"\n",
    "    def draw_circle(self, x, y, radius):\n",
    "        print(\"API 1 drawing a circle at ({}, {} with radius {}!)\".format(x, y, radius))\n",
    "\n",
    "\n",
    "class DrawingAPITwo(object):\n",
    "    \"\"\"Implementation-specific abstraction: concrete class two\"\"\"\n",
    "    def draw_circle(self, x, y, radius):\n",
    "        print(\"API 2 drawing a circle at ({}, {} with radius {}!)\".format(x, y, radius))\n",
    "\n",
    "class Circle(object):\n",
    "    \"\"\"Implementation-independent abstraction: for example, there could be a rectangle class!\"\"\"\n",
    "\n",
    "    def __init__(self, x, y, radius, drawing_api):\n",
    "        \"\"\"Initialize the necessary attributes\"\"\"\n",
    "        self._x = x\n",
    "        self._y = y\n",
    "        self._radius = radius\n",
    "        self._drawing_api = drawing_api\n",
    "\n",
    "    def draw(self):\n",
    "        \"\"\"Implementation-specific abstraction taken care of by another class: DrawingAPI\"\"\"\n",
    "        self._drawing_api.draw_circle(self._x, self._y, self._radius)\n",
    "\n",
    "    def scale(self, percent):\n",
    "        \"\"\"Implementation-independent\"\"\"\n",
    "        self._radius *= percent\n",
    "\n",
    "\n",
    "#Build the first Circle object using API One\n",
    "circle1 = Circle(1, 2, 3, DrawingAPIOne())\n",
    "#Draw a circle\n",
    "circle1.draw()\n",
    "\n",
    "#Build the second Circle object using API Two\n",
    "circle2 = Circle(2, 3, 4, DrawingAPITwo())\n",
    "#Draw a circle\n",
    "circle2.draw()"
   ]
  }
 ],
 "metadata": {
  "kernelspec": {
   "display_name": "Python 3",
   "language": "python",
   "name": "python3"
  },
  "language_info": {
   "codemirror_mode": {
    "name": "ipython",
    "version": 3
   },
   "file_extension": ".py",
   "mimetype": "text/x-python",
   "name": "python",
   "nbconvert_exporter": "python",
   "pygments_lexer": "ipython3",
   "version": "3.6.4"
  }
 },
 "nbformat": 4,
 "nbformat_minor": 2
}
