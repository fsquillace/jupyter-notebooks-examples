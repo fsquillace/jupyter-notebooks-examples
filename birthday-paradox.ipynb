{
 "cells": [
  {
   "cell_type": "markdown",
   "metadata": {},
   "source": [
    "# Birthday paradox\n",
    "\n",
    "https://en.wikipedia.org/wiki/Birthday_problem"
   ]
  },
  {
   "cell_type": "code",
   "execution_count": 41,
   "metadata": {},
   "outputs": [],
   "source": [
    "import numpy as np\n",
    "import matplotlib.pyplot as plt\n",
    "from ipywidgets import interactive\n",
    "from IPython.display import display\n",
    "\n",
    "%matplotlib inline\n",
    "\n",
    "def birthday_paradox(people, trials):\n",
    "    buffer = np.zeros(people)\n",
    "    for t in range(trials):\n",
    "        for p in range(people):\n",
    "            sample = np.random.choice(np.arange(365), size=p)\n",
    "            if len(sample) != len(np.unique(sample)):\n",
    "                buffer[p] += 1.0\n",
    "    result = buffer / trials\n",
    "    \n",
    "    plt.figure(figsize=(8, 5))\n",
    "    plt.plot(np.arange(people), result, c='k', lw=2)\n",
    "    plt.title('Probability of at least two people sharing a birthday versus the number of people')\n",
    "    plt.xlabel('Number of people')\n",
    "    plt.ylabel('Probability of a pair')\n",
    "    plt.grid(True)\n",
    "    plt.show()\n",
    "    \n",
    "    return (np.arange(people), result)"
   ]
  },
  {
   "cell_type": "code",
   "execution_count": 42,
   "metadata": {},
   "outputs": [
    {
     "data": {
      "application/vnd.jupyter.widget-view+json": {
       "model_id": "86709b7e5e77479fb5a983d9ff508152"
      }
     },
     "metadata": {},
     "output_type": "display_data"
    }
   ],
   "source": [
    "p = interactive(birthday_paradox, people=(1,100), trials=(1,1000))\n",
    "display(p)"
   ]
  }
 ],
 "metadata": {
  "kernelspec": {
   "display_name": "Python 3",
   "language": "python",
   "name": "python3"
  },
  "language_info": {
   "codemirror_mode": {
    "name": "ipython",
    "version": 3
   },
   "file_extension": ".py",
   "mimetype": "text/x-python",
   "name": "python",
   "nbconvert_exporter": "python",
   "pygments_lexer": "ipython3",
   "version": "3.6.3"
  }
 },
 "nbformat": 4,
 "nbformat_minor": 2
}
