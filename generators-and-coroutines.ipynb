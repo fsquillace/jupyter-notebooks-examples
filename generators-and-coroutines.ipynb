{
 "cells": [
  {
   "cell_type": "code",
   "execution_count": 22,
   "metadata": {},
   "outputs": [
    {
     "name": "stdout",
     "output_type": "stream",
     "text": [
      "1\n",
      "1\n",
      "2\n",
      "3\n",
      "5\n",
      "8\n",
      "13\n",
      "21\n",
      "34\n",
      "55\n"
     ]
    }
   ],
   "source": [
    "# Example of generator for Fibonacci sequence\n",
    "# 1 1 2 3 5 8 13\n",
    "\n",
    "def fib():\n",
    "    f1 = 0\n",
    "    f2 = 1\n",
    "    while True:\n",
    "        yield f2\n",
    "        f1, f2 = f2, f1 + f2\n",
    "\n",
    "f = fib()\n",
    "for i in range(10):\n",
    "    print(next(f))"
   ]
  },
  {
   "cell_type": "code",
   "execution_count": 48,
   "metadata": {},
   "outputs": [
    {
     "name": "stdout",
     "output_type": "stream",
     "text": [
      "Before\n",
      "Body\n",
      "After\n"
     ]
    }
   ],
   "source": [
    "from contextlib import contextmanager\n",
    "\n",
    "@contextmanager\n",
    "def f():\n",
    "    print('Before')\n",
    "    yield \n",
    "    print('After')\n",
    "    \n",
    "with f():\n",
    "    print('Body')"
   ]
  },
  {
   "cell_type": "code",
   "execution_count": 52,
   "metadata": {},
   "outputs": [
    {
     "name": "stdout",
     "output_type": "stream",
     "text": [
      "11\n",
      "14\n",
      "16\n",
      "16\n"
     ]
    }
   ],
   "source": [
    "@contextmanager\n",
    "def coroutine_manager(coroutine_obj):\n",
    "    \"\"\"\n",
    "    Convenient context manager to deal with the operation to be performed\n",
    "    for a coroutine: first next() to point to the first yield and close() once\n",
    "    context is completed.\n",
    "    \"\"\"\n",
    "    next(coroutine_obj)\n",
    "    yield coroutine_obj\n",
    "    coroutine_obj.close()\n",
    "\n",
    "    \n",
    "def summarize(start):\n",
    "    s = start\n",
    "    try:\n",
    "        while True:\n",
    "            # yield s as partial sum\n",
    "            res = yield s\n",
    "            s += res\n",
    "    except GeneratorExit:\n",
    "        print(s)\n",
    "        \n",
    "\n",
    "with coroutine_manager(summarize(start=1)) as c:\n",
    "    print(c.send(10))\n",
    "    print(c.send(3))\n",
    "    print(c.send(2))"
   ]
  }
 ],
 "metadata": {
  "kernelspec": {
   "display_name": "Python 3",
   "language": "python",
   "name": "python3"
  },
  "language_info": {
   "codemirror_mode": {
    "name": "ipython",
    "version": 3
   },
   "file_extension": ".py",
   "mimetype": "text/x-python",
   "name": "python",
   "nbconvert_exporter": "python",
   "pygments_lexer": "ipython3",
   "version": "3.6.3"
  }
 },
 "nbformat": 4,
 "nbformat_minor": 2
}
