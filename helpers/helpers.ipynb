{
 "cells": [
  {
   "cell_type": "code",
   "execution_count": 2,
   "metadata": {},
   "outputs": [],
   "source": [
    "from IPython.display import display as dis\n",
    "from collections import defaultdict, namedtuple, Counter\n",
    "from contextlib import contextmanager\n",
    "from datetime import datetime, timedelta\n",
    "from decimal import Decimal\n",
    "from functools import partial as part\n",
    "from math import sqrt\n",
    "from pdb import set_trace as st\n",
    "from time import time\n",
    "\n",
    "import csv\n",
    "import matplotlib.pyplot as plt\n",
    "import networkx as nx\n",
    "import numpy as np\n",
    "import pandas as pd\n",
    "import pickle\n",
    "import random\n",
    "import seaborn as sns\n",
    "\n",
    "pd.set_option('display.max_colwidth', -1)\n",
    "%matplotlib inline"
   ]
  },
  {
   "cell_type": "code",
   "execution_count": 5,
   "metadata": {},
   "outputs": [],
   "source": [
    "def write_to_local_and_remote_hosts(\n",
    "    my_list, file_path,\n",
    "    remote_host=None):\n",
    "    \"\"\"\n",
    "    Parameters\n",
    "    ----------\n",
    "    mylist : list of object\n",
    "        list of strings\n",
    "    file_path: str\n",
    "        The file path name\n",
    "    \"\"\"\n",
    "    my_file = open(file_path, 'w')\n",
    "    my_file.writelines([str(e) + '\\n' for e in my_list])\n",
    "    my_file.close()\n",
    "    if remote_host:\n",
    "        !scp $file_path $remote_host:~"
   ]
  },
  {
   "cell_type": "code",
   "execution_count": null,
   "metadata": {},
   "outputs": [],
   "source": [
    "def pickle_it(obj, file_path):\n",
    "    \"\"\"\n",
    "    Parameters\n",
    "    ----------\n",
    "    obj : object\n",
    "        Any python obj\n",
    "    filename: str\n",
    "        The file path name\n",
    "    \"\"\"\n",
    "    pickle.dump(obj, open(file_path, 'w'))"
   ]
  },
  {
   "cell_type": "code",
   "execution_count": 1,
   "metadata": {
    "collapsed": true
   },
   "outputs": [],
   "source": [
    "def run_ipynb(url):\n",
    "    \"\"\"\n",
    "    Runs IPython notebooks from URL\n",
    "    The following is a small function that will fetch from URL the content of a Jupyter notebook, store into a temporary file and run it to the current notebook.\n",
    "    The code will be loaded for interactive work.\n",
    "    \n",
    "    Examples\n",
    "    --------\n",
    "        run_ipynb('https://raw.githubusercontent.com/fsquillace/jupyter-notebooks-examples/master/tutorials/ipywidgets-interact.ipynb')\n",
    "    \"\"\"\n",
    "    import requests, tempfile\n",
    "    with tempfile.NamedTemporaryFile(suffix='.ipynb') as file_object:\n",
    "        status_code = requests.get(url).status_code\n",
    "        if status_code != 200:\n",
    "            print(f'Error while retrieving {url}. status code: {status_code}')\n",
    "            return\n",
    "        file_object.write(requests.get(url).content)\n",
    "        file_object.flush()\n",
    "        %run $file_object.name"
   ]
  }
 ],
 "metadata": {
  "kernelspec": {
   "display_name": "Python 3",
   "language": "python",
   "name": "python3"
  },
  "language_info": {
   "codemirror_mode": {
    "name": "ipython",
    "version": 3
   },
   "file_extension": ".py",
   "mimetype": "text/x-python",
   "name": "python",
   "nbconvert_exporter": "python",
   "pygments_lexer": "ipython3",
   "version": "3.7.1"
  }
 },
 "nbformat": 4,
 "nbformat_minor": 2
}
